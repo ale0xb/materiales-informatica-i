{
 "cells": [
  {
   "cell_type": "markdown",
   "metadata": {},
   "source": [
    "## Grado en Estadística: Informática I - Prueba práctica Enero 2018"
   ]
  },
  {
   "cell_type": "markdown",
   "metadata": {},
   "source": [
    "1. El examen consta de dos ejercicios que tendrás **1 hora** en total para resolver. Cuando haya pasado el tiempo (1 hora) se te pedirá que dejes de teclear y se recogerán las respuestas.\n",
    "2. Antes de comenzar completa con tu nombre y DNI la siguiente celda.\n",
    "3. Está prohibido hablar. Si tienes alguna duda levanta la mano.\n",
    "4. Apaga tu móvil y guárdalo.\n",
    "5. Si el programa da error la nota es 0. Recuerda: A efectos de calificación se premia la calidad y no la cantidad.\n",
    "6. Los ejercicios están pensados para ser resueltos secuencialmente: No es aconsejable que intentes solucionar uno sin haber terminado antes el anterior.\n",
    "7. Se valorarán las soluciones modulares, concisas, limpias y que empleen un buen estilo de código (comentarios, etc). \n",
    "8. Elimina las llamadas a print() que hayas usado antes de entregar el ejercicio.\n",
    "9. No uses input() en ningún caso.\n",
    "10. Si terminas antes de tiempo levanta la mano para que se recoja tu ejercicio y poder abandonar el aula."
   ]
  },
  {
   "cell_type": "markdown",
   "metadata": {},
   "source": [
    "- NOMBRE COMPLETO: \n",
    "- DNI: "
   ]
  },
  {
   "cell_type": "markdown",
   "metadata": {},
   "source": [
    "## Ejercicio 1 (4 puntos)\n",
    "Completa las funciones dadas para que impriman las filas, columnas y diagonales de la matriz que se pasa como primer argumento en forma de listas anidadas. Como segundo argumento de la función se tiene una variable booleana que indica si la lectura habrá de ser de izquierda a derecha (sentido es True) o de derecha a izquierda (sentido es False). \n",
    "\n",
    "$$ M_{1} = \n",
    " \\begin{matrix}\n",
    "  1 & 2 & 3 & 4 & 5 \\\\\n",
    "  6 & 7 & 8 & 9 & 0 \\\\\n",
    "  5 & 4 & 3 & 2 & 1 \\\\\n",
    "  0 & 9 & 8 & 7 & 6 \\\\\n",
    "  2 & 2 & 3 & 2 & 2\n",
    " \\end{matrix} $$\n",
    " \n",
    "Por ejemplo, si se llama a la función imprime_filas con sentido=False, ésta imprimirá las filas en orden de derecha a izquierda:\n",
    "\n",
    "```python\n",
    "matriz = [[1,2,3,4,5], [6,7,8,9,0], [5,4,3,2,1], [0,9,8,7,6], [2,2,3,2,2]]\n",
    "imprime_filas(matriz, False)\n",
    "#Imprime lo siguiente:\n",
    ">54321\n",
    ">09876\n",
    ">12345\n",
    ">67890\n",
    ">22322\n",
    "```\n"
   ]
  },
  {
   "cell_type": "code",
   "execution_count": 14,
   "metadata": {},
   "outputs": [
    {
     "name": "stdout",
     "output_type": "stream",
     "text": [
      "17372\n",
      "29395\n"
     ]
    }
   ],
   "source": [
    "matriz = [[1,2,3,4,5], [6,7,8,9,0], [5,4,3,2,1], [0,9,8,7,6], [2,2,3,2,2]]\n",
    "#La matriz viene dada como una lista de listas, donde las sublistas son las filas.\n",
    "\n",
    "def imprime_filas(matriz, sentido):\n",
    "    #imprime las filas\n",
    "    for fila in matriz: #Recorro cada una de las sublistas (filas)\n",
    "        resultado = ''\n",
    "        for i in fila: #Para cada elemento de la sublista compongo una cadena que será el resultado\n",
    "            resultado += str(i)\n",
    "        if sentido: print(resultado) #De izquierda a derecha devuelvo el resultado tal como está\n",
    "        else: print(resultado[::-1]) #De derecha a izquierda, devuelvo el resultado al revés\n",
    "    return\n",
    "    \n",
    "def imprime_columnas(matriz, sentido):\n",
    "    #imprime las columnas\n",
    "    for pos in range(len(matriz)): #No puedo usar el mismo enfoque ya que ahora tengo que recorrer las columnas\n",
    "        resultado = ''\n",
    "        for j in matriz:\n",
    "            resultado += str(j[pos]) #Tengo que componer el resultado accediendo a la posición j de cada sublista (columna)\n",
    "        if sentido: print(resultado)\n",
    "        else: print(resultado[::-1])\n",
    "    return\n",
    "\n",
    "def imprime_diagonales(matriz, sentido):\n",
    "    #1ª diagonal: i = j -> (0-0, 1-1, 2-2...)\n",
    "    #2ª diagonal: (N - 1) - i = j -> (4-0, 3-1, 2,2, 1,3, 0,4)\n",
    "    diagonal_1 = ''\n",
    "    diagonal_2 = ''\n",
    "    for i in range(len(matriz)):\n",
    "        diagonal_1 += str(matriz[i][i])\n",
    "        diagonal_2 += str(matriz[len(matriz) - 1 - i][i])\n",
    "    if sentido:\n",
    "        print(diagonal_1)\n",
    "        print(diagonal_2)\n",
    "    else:\n",
    "        print(diagonal_1[::-1])\n",
    "        print(diagonal_2[::-1])\n",
    "    return\n",
    "\n",
    "imprime_diagonales(matriz, True)"
   ]
  },
  {
   "cell_type": "markdown",
   "metadata": {},
   "source": [
    "## Ejercicio 2: (6 puntos)\n",
    "### 2.1 (2 puntos)\n",
    "Empleando la lista proporcionada en el ejercicio anterior, crea una función que almacene en un diccionario los números que puedes formar con dígitos contiguos por filas, columnas y longitud. Por ejemplo, si quisiera acceder a los números de longitud 4 que puedo formar en la primera fila haría:\n",
    "\n",
    "```python\n",
    "diccionario['filas'][0][4]\n",
    "#Lo que devolvería:\n",
    ">[5432, 4321]\n",
    "```\n",
    "\n",
    "De manera análoga, si quisiera recuperar los números de dos cifras que puedo formar en la tercera columna haría:\n",
    "\n",
    "```python\n",
    "diccionario['columnas'][2][2]\n",
    "#Lo que devolvería:\n",
    ">[38, 83, 38, 83]\n",
    "```"
   ]
  },
  {
   "cell_type": "code",
   "execution_count": 9,
   "metadata": {},
   "outputs": [
    {
     "name": "stdout",
     "output_type": "stream",
     "text": [
      "['38', '83', '38', '83']\n"
     ]
    }
   ],
   "source": [
    "#Respuesta 2.1\n",
    "diccionario = {}\n",
    "\n",
    "#Creo una función que extrae elementos contiguos (matriz) \n",
    "#en un diccionario bajo una clave dada\n",
    "def almacena(matriz, diccionario, clave):\n",
    "    diccionario[clave] = {}\n",
    "    for num_fila in range(len(matriz)):\n",
    "        fila = matriz[num_fila] #Recorre fila por fila la matriz\n",
    "        diccionario[clave][num_fila] = {}  #Para cada fila creo un nuevo diccionario\n",
    "        for i in range(len(fila),1,-1): #Para cada longitud, dada en orden decreciente (5, 4, 3...)\n",
    "            resultados = []\n",
    "            for j in range(len(fila) - i + 1): #Con este bucle marcamos la posición a partir de la cual leer \n",
    "                num_cadena = ''\n",
    "                for n in fila[j:i+j]: #Con este bucle componemos el número en cuestión\n",
    "                    # Con este bucle hacemos que la sección se vaya \"moviendo\": \n",
    "                    # Para longitud 5 extraemos 1 sección de la posición 0 a la 4.\n",
    "                    # Para longitud 4 extraemos 2 secciones de la posiciones 0 a la 3 y 1 a 4.\n",
    "                    # Para longitud 3 extraemos 3 secciones de la posiciones 0 a la 2, 1 a 3 y 2 a 4\n",
    "                    # Etc...\n",
    "                    num_cadena += str(n) \n",
    "                resultados.append(num_cadena) #Una vez compuesto el número, lo guardamos\n",
    "            diccionario[clave][num_fila][i] = resultados #Y añadimos en la clave correspondiente\n",
    "        \n",
    "almacena(matriz,diccionario,'filas') \n",
    "\n",
    "matriz_columnas = [] \n",
    "#En vez de modificar la función almacena, es mucho más fácil cambiar la matriz que se le pasa:\n",
    "#Al fin y al cabo el algoritmo que se seguirá es el mismo!! ;) \n",
    "\n",
    "for col in range(len(matriz)):\n",
    "    columna = []\n",
    "    for fila in matriz:\n",
    "        columna.append(fila[col])\n",
    "    matriz_columnas.append(columna)\n",
    "    \n",
    "#Prueba:\n",
    "almacena(matriz_columnas,diccionario,'columnas')\n",
    "print(diccionario['columnas'][2][2])   "
   ]
  },
  {
   "cell_type": "markdown",
   "metadata": {},
   "source": [
    "### 2.2 (2 puntos)\n",
    "Modifica tu código para no guardar el mismo número más de una vez por fila o columna, de manera que el anterior ejemplo quedaría ahora así:\n",
    "```python\n",
    "diccionario['columnas'][2][2]\n",
    "#Ahora devuelve: (los números 38 y 83 sólo se almacenan una vez)\n",
    ">[38, 83]\n",
    "```"
   ]
  },
  {
   "cell_type": "code",
   "execution_count": 12,
   "metadata": {},
   "outputs": [
    {
     "name": "stdout",
     "output_type": "stream",
     "text": [
      "['38', '83']\n"
     ]
    }
   ],
   "source": [
    "#Respuesta 2.2\n",
    "def almacena_sin_repetidos(matriz, diccionario, clave):\n",
    "    diccionario[clave] = {}\n",
    "    for num_fila in range(len(matriz)):\n",
    "        fila = matriz[num_fila]\n",
    "        diccionario[clave][num_fila] = {}\n",
    "        for i in range(len(fila),1,-1):\n",
    "            resultados = []\n",
    "            for j in range(len(fila) - i + 1):\n",
    "                num_cadena = ''\n",
    "                for n in fila[j:i+j]:\n",
    "                    num_cadena += str(n)\n",
    "                resultados.append(num_cadena)\n",
    "            diccionario[clave][num_fila][i] = list(set(resultados)) #Exactamente igual que antes pero ahora se usa set() para eliminar repetidos\n",
    "            \n",
    "diccionario_sin_repetidos = {}\n",
    "almacena_sin_repetidos(matriz_columnas,diccionario_sin_repetidos,'columnas')\n",
    "print(diccionario_sin_repetidos['columnas'][2][2])"
   ]
  },
  {
   "cell_type": "markdown",
   "metadata": {},
   "source": [
    "### 2.3 (2 puntos)\n",
    "Sin modificar el diccionario original que generaste en los pasos anterior, crea una función que cree una copia de dicho diccionario y que añada el final de cada lista la suma de los números contenidos en ella. **Importante: No escribas código para copiar el diccionario ni sus claves o valores manualmente, has de usar sólo funciones built-in.**"
   ]
  },
  {
   "cell_type": "code",
   "execution_count": 13,
   "metadata": {},
   "outputs": [
    {
     "name": "stdout",
     "output_type": "stream",
     "text": [
      "{'columnas': {0: {2: ['50', '16', '65', '02', 133], 3: ['502', '650', '165', 1317], 4: ['6502', '1650', 8152], 5: ['16502', 16502]}, 1: {2: ['27', '49', '74', '92', 242], 3: ['492', '749', '274', 1515], 4: ['7492', '2749', 10241], 5: ['27492', 27492]}, 2: {2: ['38', '83', 121], 3: ['838', '383', 1221], 4: ['3838', '8383', 12221], 5: ['38383', 38383]}, 3: {2: ['27', '49', '72', '92', 240], 3: ['927', '492', '272', 1691], 4: ['4927', '9272', 14199], 5: ['49272', 49272]}, 4: {2: ['50', '16', '01', '62', 129], 3: ['162', '016', '501', 679], 4: ['0162', '5016', 5178], 5: ['50162', 50162]}}}\n",
      "{'columnas': {0: {2: ['50', '16', '65', '02'], 3: ['502', '650', '165'], 4: ['6502', '1650'], 5: ['16502']}, 1: {2: ['27', '49', '74', '92'], 3: ['492', '749', '274'], 4: ['7492', '2749'], 5: ['27492']}, 2: {2: ['38', '83'], 3: ['838', '383'], 4: ['3838', '8383'], 5: ['38383']}, 3: {2: ['27', '49', '72', '92'], 3: ['927', '492', '272'], 4: ['4927', '9272'], 5: ['49272']}, 4: {2: ['50', '16', '01', '62'], 3: ['162', '016', '501'], 4: ['0162', '5016'], 5: ['50162']}}}\n"
     ]
    }
   ],
   "source": [
    "#Respuesta 2.3\n",
    "#El único \"truco\" que había que usar aquí era \"deepcopy()\" para no modificar el diccionario original.\n",
    "#Por lo demás el algoritmo es un simple acumulador que almacena uno por uno los elementos de cada lista.\n",
    "#También sirve para comprobar que sabes cómo recorrer un diccionario...\n",
    "\n",
    "from copy import deepcopy\n",
    "\n",
    "def calcula_suma(diccionario):\n",
    "    diccionario_2 = deepcopy(diccionario)\n",
    "    for key,value in diccionario_2.items():\n",
    "        for a,b in value.items():\n",
    "            for k,v in b.items():\n",
    "                suma = 0\n",
    "                for i in v: suma+=int(i)\n",
    "                v.append(suma)\n",
    "    return diccionario_2\n",
    "    \n",
    "print(calcula_suma(diccionario_sin_repetidos))\n",
    "print(diccionario_sin_repetidos) #El diccionario original queda sin modificar!"
   ]
  },
  {
   "cell_type": "code",
   "execution_count": null,
   "metadata": {},
   "outputs": [],
   "source": []
  }
 ],
 "metadata": {
  "kernelspec": {
   "display_name": "Python 3",
   "language": "python",
   "name": "python3"
  },
  "language_info": {
   "codemirror_mode": {
    "name": "ipython",
    "version": 3
   },
   "file_extension": ".py",
   "mimetype": "text/x-python",
   "name": "python",
   "nbconvert_exporter": "python",
   "pygments_lexer": "ipython3",
   "version": "3.5.3"
  }
 },
 "nbformat": 4,
 "nbformat_minor": 2
}
