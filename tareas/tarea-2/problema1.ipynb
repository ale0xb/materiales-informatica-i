{
 "cells": [
  {
   "cell_type": "markdown",
   "metadata": {},
   "source": [
    "Antes de empezar a resolver los problemas de este notebook, asegúrate de que todo funciona como es debido. Primero, **reinicia el kernel** (En el menú superior, selecciona Kernel$\\rightarrow$Restart) y después **ejecuta todas las celdas** (en el menú, selecciona Cell$\\rightarrow$Run All).\n",
    "\n",
    "Asegúrate también de que rellanas todas las partes que pongan `ESCRIBE AQUI TU CODIGO` or \"ESCRIBE AQUI TU RESPUESTA\", así como tu nombre y el de tu pareja EN NAME_1 y COLLABORATORS respectivamente (entre las comillas)."
   ]
  },
  {
   "cell_type": "code",
   "execution_count": null,
   "metadata": {},
   "outputs": [],
   "source": [
    "NAME_1 = \"\"\n",
    "COLLABORATORS = \"\""
   ]
  },
  {
   "cell_type": "markdown",
   "metadata": {},
   "source": [
    "---"
   ]
  },
  {
   "cell_type": "markdown",
   "metadata": {
    "deletable": false,
    "editable": false,
    "nbgrader": {
     "checksum": "815d31655860d237af16d5440f8830b1",
     "grade": false,
     "grade_id": "cell-695f2338711fc7c8",
     "locked": true,
     "schema_version": 1,
     "solution": false
    }
   },
   "source": [
    "## Ejercicio 1: PimPam\n",
    "Escribe el código de un bucle que imprima por pantalla los números del 1 al 20. Para aquellos números que sean múltiplos de tres, imprime \"Pim\" (Sin las comillas) en vez del número. Para los múltiplos de cinco, imprime \"Pam\". Para aquellos números que sean a la vez múltiplos de tres y de cinco imprime \"PimPam\". "
   ]
  },
  {
   "cell_type": "code",
   "execution_count": null,
   "metadata": {
    "deletable": false,
    "nbgrader": {
     "checksum": "82e8627ee3934c26c70bd8e5c837d5e4",
     "grade": true,
     "grade_id": "cell-8a9d41e30e850c8e",
     "locked": false,
     "points": 5,
     "schema_version": 1,
     "solution": true
    }
   },
   "outputs": [],
   "source": [
    "# ESCRIBE AQUI TU CODIGO\n",
    "raise NotImplementedError()"
   ]
  },
  {
   "cell_type": "markdown",
   "metadata": {
    "deletable": false,
    "editable": false,
    "nbgrader": {
     "checksum": "0d552295a501ea2eae2ed56f7662e98d",
     "grade": false,
     "grade_id": "cell-2fca6b46375d25c5",
     "locked": true,
     "schema_version": 1,
     "solution": false
    }
   },
   "source": [
    "## Ejercicio 2: Replace\n",
    "Con lo que hemos dado en clase hoy, ¿podrías tú implementar la función str.replace?\n",
    "Esto es, tienes que implementar una función que reciba tres argumentos: una cadena y dos caracteres. La función ha de devolver una nueva cadena en la que todas las apariciones del primer caracter hayan sido reemplazadas por el segundo."
   ]
  },
  {
   "cell_type": "code",
   "execution_count": null,
   "metadata": {
    "deletable": false,
    "nbgrader": {
     "checksum": "d8e8be2b8521929aa0595b64468b505e",
     "grade": false,
     "grade_id": "cell-b73077926760d16d",
     "locked": false,
     "schema_version": 1,
     "solution": true
    }
   },
   "outputs": [],
   "source": [
    "def my_replace(cadena, caracter1, caracter2):\n",
    "    # ESCRIBE AQUI TU CODIGO\n",
    "    raise NotImplementedError()"
   ]
  },
  {
   "cell_type": "code",
   "execution_count": null,
   "metadata": {
    "deletable": false,
    "editable": false,
    "nbgrader": {
     "checksum": "8ffc8c350a4ce425fe7d4e5d63ae8335",
     "grade": true,
     "grade_id": "cell-3ed3f8a08b4aaf65",
     "locked": true,
     "points": 0,
     "schema_version": 1,
     "solution": false
    }
   },
   "outputs": [],
   "source": [
    "assert my_replace('cadena', 'a', 'o') == 'codeno'\n",
    "assert my_replace('esto es una prueba', 'a', 'o') == 'esto es uno pruebo'"
   ]
  },
  {
   "cell_type": "code",
   "execution_count": null,
   "metadata": {},
   "outputs": [],
   "source": []
  }
 ],
 "metadata": {
  "kernelspec": {
   "display_name": "Python 3",
   "language": "python",
   "name": "python3"
  },
  "language_info": {
   "codemirror_mode": {
    "name": "ipython",
    "version": 3
   },
   "file_extension": ".py",
   "mimetype": "text/x-python",
   "name": "python",
   "nbconvert_exporter": "python",
   "pygments_lexer": "ipython3",
   "version": "3.5.3"
  }
 },
 "nbformat": 4,
 "nbformat_minor": 1
}
