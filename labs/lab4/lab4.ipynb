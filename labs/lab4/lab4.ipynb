{
 "cells": [
  {
   "cell_type": "markdown",
   "metadata": {},
   "source": [
    "# Lab 4: Listas y tuplas\n",
    "En el pasado hemos visto algunos de los tipos que podemos usar en Python como los **números** (enteros y de coma flotante) y las **cadenas**. Hoy vamos a presentar algunos tipos más complejos para el manejo de datos como son las **listas** y las **tuplas**, que nos van a permitir operar de manera más potente en nuestro código. Os adelanto que estos tipos pertenecen al grupo de las **secuencias** en Python. En un secuencia, cada elemento perteneciente a la misma es asignado un número (su índice). El primer elemento tiene índice 0, el segundo 1, etc. Hay seis tipos de secuencias, de los cuales ya hemos visto uno. ¿Cuál es? \n",
    "\n",
    "## 1. Listas\n",
    "El primer tipo nativo que vamos a ver son las **listas**. Las listas tienen mucho que ver con las cadenas, pero su cometido es ligeramente diferente. Las listas son más versátiles que las cadenas, en el sentido que permiten almacenar información de diversa naturaleza (al contrario que las cadenas, que sólo permiten almacenar caracteres). Ateniéndonos a este aspecto, podríamos decir que las cadenas en Python son un tipo particular de lista inmutable y limitada al almacenamiento de caracteres. \n",
    "\n",
    "Por este motivo, las listas y las cadenas comparten muchas operaciones como:\n",
    "1. El acceso a elementos mediante índices (notación []).\n",
    "2. El cortado o acceso a secciones (notacion [n:n])\n",
    "3. La suma  y la multiplicación\n",
    "4. Otras\n"
   ]
  },
  {
   "cell_type": "code",
   "execution_count": 2,
   "metadata": {},
   "outputs": [
    {
     "name": "stdout",
     "output_type": "stream",
     "text": [
      "cadena =  esto es una cadena\n",
      "lista =  ['cafe', 'te', 'zumo', 'whisky', 'agua']\n",
      "lista_2 =  [5, 2, 3, 1, 0]\n",
      "lista_3 =  ['cafe', 'agua', 0, 5]\n",
      "---------------------------------------------------\n",
      "¿Qué índice tiene una elemento?\n",
      "lista.index(\"whisky\") vale  3\n",
      "cadena.index(\"una\") vale  8\n",
      "---------------------------------------------------\n",
      "¿Qué elemento hay en un índice?\n",
      "lista[2] vale  zumo\n",
      "lista[-2] vale  whisky\n",
      "lista[:-2] vale  ['cafe', 'te', 'zumo']\n",
      "cadena[5] vale  e\n",
      "lista[:4] vale  ['cafe', 'te', 'zumo', 'whisky']\n",
      "cadena[:5] vale  esto \n"
     ]
    }
   ],
   "source": [
    "cadena = \"esto es una cadena\"\n",
    "#Una lista que almacena cadenas\n",
    "lista = ['cafe', 'te', 'zumo', 'whisky', 'agua']\n",
    "#Una lista que almacena enteros\n",
    "lista_2 = [5, 2, 3, 1, 0]\n",
    "#Esto también es válido\n",
    "lista_3 = ['cafe', 'agua', 0, 5]\n",
    "\n",
    "print(\"cadena = \", cadena)\n",
    "print(\"lista = \", lista)\n",
    "print(\"lista_2 = \", lista_2)\n",
    "print(\"lista_3 = \", lista_3)\n",
    "\n",
    "#Vamos a ver algunas de las operaciones que podemos hacer con listas\n",
    "print('---------------------------------------------------')\n",
    "print('¿Qué índice tiene una elemento?')\n",
    "print('lista.index(\"whisky\") vale ', lista.index(\"whisky\"))\n",
    "print('cadena.index(\"una\") vale ', cadena.index(\"una\"))\n",
    "\n",
    "print('---------------------------------------------------')\n",
    "print('¿Qué elemento hay en un índice?')\n",
    "print('lista[2] vale ', lista[2])\n",
    "print('lista[-2] vale ', lista[-2])\n",
    "print('lista[:-2] vale ', lista[:-2])\n",
    "print('cadena[5] vale ', cadena[5])\n",
    "print('lista[:4] vale ', lista[:4])\n",
    "print('cadena[:5] vale ', cadena[:5])"
   ]
  },
  {
   "cell_type": "markdown",
   "metadata": {
    "collapsed": true
   },
   "source": [
    "### 1.1 Actualizando listas\n",
    "Puedes actualizar el contenido de una o varias posiciones de una lista mediante la operación slice:"
   ]
  },
  {
   "cell_type": "code",
   "execution_count": null,
   "metadata": {
    "collapsed": true
   },
   "outputs": [],
   "source": [
    "lista[1] = 'mate'\n",
    "print(\"lista = \", lista)\n",
    "\n",
    "lista[2:4] = ['vino', 'cerveza']\n",
    "print(\"lista = \", lista)\n"
   ]
  },
  {
   "cell_type": "markdown",
   "metadata": {},
   "source": [
    "Recuerda que las cadenas son inmutables, lo que significa que esta operación no está soportada:"
   ]
  },
  {
   "cell_type": "code",
   "execution_count": null,
   "metadata": {
    "collapsed": true
   },
   "outputs": [],
   "source": [
    "cadena[2] = 's'"
   ]
  },
  {
   "cell_type": "markdown",
   "metadata": {},
   "source": [
    "### 1.3 Añadir elementos\n",
    "Para añadir elementos a una lista puedo usar el método **list.append()** o **list.insert(index, obj)**"
   ]
  },
  {
   "cell_type": "code",
   "execution_count": null,
   "metadata": {
    "collapsed": true
   },
   "outputs": [],
   "source": [
    "#Append siempre me añade elementos al final de la lista\n",
    "lista.append('ginebra')\n",
    "print(\"lista = \", lista)\n",
    "lista.append('brandy')\n",
    "print(\"lista = \", lista)\n",
    "lista.append('brandy')\n",
    "print(\"lista = \", lista)\n",
    "lista.append('brandy')\n",
    "print(\"lista = \", lista)\n",
    "\n",
    "#Insert me permite insertar elementos en la posición que yo quiera\n",
    "lista.insert(2, 'coñac')\n",
    "print(\"lista = \", lista)"
   ]
  },
  {
   "cell_type": "markdown",
   "metadata": {},
   "source": [
    "### 1.4 Quitar elementos\n",
    "Puedo eliminar elementos de la lista usando la palabra reservada **del** y las funciones **list.remove(obj)** y **list.pop(obj = list[-1])**."
   ]
  },
  {
   "cell_type": "code",
   "execution_count": null,
   "metadata": {
    "collapsed": true
   },
   "outputs": [],
   "source": [
    "#usaremos \"del\" cuando sabemos exactamente qué elemento queremos eliminar\n",
    "#(Conocemos su indice)\n",
    "del lista[2]\n",
    "print(\"lista = \", lista)\n",
    "\n",
    "#Emplearemos \"list.remove()\" cuando queremos eliminar la primera ocurrencia de un elemento dado\n",
    "lista.remove('ginebra')\n",
    "\n",
    "#Por último, pop devuelve el elemento que hemos eliminado\n",
    "a = lista.pop(2)\n",
    "print(\"lista = \", lista)\n",
    "print(a)"
   ]
  },
  {
   "cell_type": "markdown",
   "metadata": {},
   "source": [
    "### 1.4 Otras operaciones\n",
    "Como vimos con las cadenas, existen además otras operaciones que podemos usar con las secuencias."
   ]
  },
  {
   "cell_type": "code",
   "execution_count": null,
   "metadata": {
    "collapsed": true
   },
   "outputs": [],
   "source": [
    "cadena_2 = 'Otra cadena mas'\n",
    "\n",
    "#Listas y cadenas pueden ser usadas como argumento de \"len\"\n",
    "print('len(cadena) = ',len(cadena))\n",
    "print('len(lista) = ', len(lista))\n",
    "print('---------------------------------------------------')\n",
    "\n",
    "#Concatenación\n",
    "print('lista + lista_2', lista + lista_2)\n",
    "print('cadena + cadena_2:', cadena + cadena_2)\n",
    "#Otra manera usando list.extend()\n",
    "print('lista.extend(lista_2)')\n",
    "lista.extend(lista_2)\n",
    "print(\"lista = \", lista)\n",
    "\n",
    "print('---------------------------------------------------')\n",
    "\n",
    "#Multiplicación\n",
    "print('lista_2 * 5', lista_2 * 5)\n",
    "print('---------------------------------------------------')\n",
    "\n",
    "#Membresía e iteración\n",
    "print('agua in lista vale', 'agua' in lista)\n",
    "print('pacharan in lista vale', 'pacharan' in lista)\n",
    "print('e in cadena vale', 'e' in cadena)\n",
    "print('---------------------------------------------------')\n",
    "\n",
    "#Lo más básico\n",
    "for x in lista : print(x)\n",
    "print('---------------------------------------------------')\n",
    "\n",
    "#Te acuerdas de esto?\n",
    "for indice in range(len(lista)): \n",
    "    print('lista[',indice,'] =', lista[indice])\n",
    "print('---------------------------------------------------')\n",
    "\n",
    "#Mucho más fácil usando enumerate:\n",
    "for indice, elemento in enumerate(lista):\n",
    "    print('lista[',indice,'] =', elemento)\n",
    "\n"
   ]
  },
  {
   "cell_type": "markdown",
   "metadata": {},
   "source": [
    "Existen varios métodos interesantes más que puedes usar: Tienes toda la lista en las dos siguientes enlaces: [1](https://docs.python.org/3.1/tutorial/introduction.html#lists) y [2](https://docs.python.org/3.1/tutorial/datastructures.html#more-on-lists).\n",
    "\n",
    "Merece la pena resaltar: "
   ]
  },
  {
   "cell_type": "code",
   "execution_count": 10,
   "metadata": {},
   "outputs": [
    {
     "name": "stdout",
     "output_type": "stream",
     "text": [
      "[5, 3, 2, 1, 0]\n",
      "[0, 1, 2, 3, 5]\n",
      "[5, 3, 2, 1, 0]\n",
      "['te', 'cafe', 'zumo', 'agua', 'whisky']\n",
      "['te', 'cafe', 'zumo', 'agua', 'whisky']\n",
      "---------------------------------------------------\n",
      "['whisky', 'cafe', 'zumo', 'agua', 'te']\n",
      "['e', 's', 't', 'o', ' ', 'e', 's', ' ', 'u', 'n', 'a', ' ', 'c', 'a', 'd', 'e', 'n', 'a']\n"
     ]
    }
   ],
   "source": [
    "#list.reverse() (in place)\n",
    "print(lista_2)\n",
    "lista_2.reverse()\n",
    "lista_2_rev = reversed(lista_2)\n",
    "\n",
    "lista_2.sort()\n",
    "print(lista_2)\n",
    "\n",
    "lista_2.sort(reverse=True)\n",
    "print(lista_2)\n",
    "\n",
    "#Orden lexicográfico\n",
    "print(lista)\n",
    "\n",
    "#Un uso de la función lambda\n",
    "lista.sort(key = lambda x: len(x))\n",
    "print(lista)\n",
    "\n",
    "print('---------------------------------------------------')\n",
    "\n",
    "lista_ordenada = sorted(lista, key=lambda x: len(x), reverse=True)\n",
    "\n",
    "print(lista_ordenada)\n",
    "\n",
    "#Cualquier secuencia puede ser convertida en una lista\n",
    "lista_4 = list(cadena)\n",
    "print(lista_4)"
   ]
  },
  {
   "cell_type": "code",
   "execution_count": null,
   "metadata": {
    "collapsed": true
   },
   "outputs": [],
   "source": [
    "#¿Qué pasa si intento operar con elementos de distinto tipo dentro de la lista?\n",
    "lista_suma = lista + lista_2\n",
    "print(lista_suma)\n",
    "lista_suma.sort()\n",
    "print(lista_suma)"
   ]
  },
  {
   "cell_type": "markdown",
   "metadata": {
    "collapsed": true
   },
   "source": [
    "## 2. Tuplas\n",
    "Las tuplas funcionan igual que las listas con la excepción de que son inmutables. Así que van a soportar las mismas operaciones que las listas anteriormente presentadas salvo por la modificación de elementos. \n",
    "\n",
    "La sintaxis también cambia ligeramente: No se usan paréntesis \n",
    "\n",
    "La regla para usar las tuplas es que se usan siempre que sepas que dicha secuencia no se va a modificar. (por ejemplo, los meses del año dados en orden).\n",
    "\n"
   ]
  },
  {
   "cell_type": "code",
   "execution_count": 7,
   "metadata": {},
   "outputs": [
    {
     "name": "stdout",
     "output_type": "stream",
     "text": [
      "lunes martes\n",
      "miercoles jueves\n",
      "viernes sabado\n",
      "('e', 's', 't', 'o', ' ', 'e', 's', ' ', 'u', 'n', 'a', ' ', 'c', 'a', 'd', 'e', 'n', 'a')\n",
      "False\n",
      "False\n",
      "['lunes', 'martes', 'miercoles', 'jueves', 'viernes']\n",
      "False\n",
      "True\n"
     ]
    }
   ],
   "source": [
    "tupla_1 = ('lunes', 'martes', 'miercoles', 'jueves', 'viernes')\n",
    "#Tupla de tuplas\n",
    "tupla_2 = (('lunes', 'martes'), ('miercoles', 'jueves'), ('viernes', 'sabado'))\n",
    "\n",
    "for dia_1, dia_2 in tupla_2:\n",
    "    print(dia_1, dia_2)\n",
    "    \n",
    "tupla_2 = 'enero', 'febrero', 'marzo'\n",
    "\n",
    "#Las tuplas de un solo elemento se declaran asi:\n",
    "tupla_3 = (50,)\n",
    "\n",
    "#De igual manera puedo generar tuplas desde una secuencia\n",
    "tupla_4 = tuple(cadena)\n",
    "print(tupla_4)\n",
    "\n",
    "print(tupla_1 == tupla_2)\n",
    "tupla_5 = ('martes', 'miercoles', 'jueves', 'viernes', 'lunes')\n",
    "print(tupla_1 == tupla_5)\n",
    "lista_tupla_1 = list(tupla_1)\n",
    "print(lista_tupla_1)\n",
    "print(tupla_1 == lista_tupla_1)\n",
    "print(tupla_1 == tuple(list(tupla_1)))"
   ]
  },
  {
   "cell_type": "code",
   "execution_count": 6,
   "metadata": {},
   "outputs": [
    {
     "data": {
      "text/plain": [
       "False"
      ]
     },
     "execution_count": 6,
     "metadata": {},
     "output_type": "execute_result"
    }
   ],
   "source": [
    "[0, 1] == (0, 1)"
   ]
  },
  {
   "cell_type": "code",
   "execution_count": null,
   "metadata": {
    "collapsed": true
   },
   "outputs": [],
   "source": []
  }
 ],
 "metadata": {
  "kernelspec": {
   "display_name": "Python 3",
   "language": "python",
   "name": "python3"
  },
  "language_info": {
   "codemirror_mode": {
    "name": "ipython",
    "version": 3
   },
   "file_extension": ".py",
   "mimetype": "text/x-python",
   "name": "python",
   "nbconvert_exporter": "python",
   "pygments_lexer": "ipython3",
   "version": "3.6.3"
  }
 },
 "nbformat": 4,
 "nbformat_minor": 2
}
