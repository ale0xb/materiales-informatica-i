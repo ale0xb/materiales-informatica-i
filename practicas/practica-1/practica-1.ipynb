{
 "cells": [
  {
   "cell_type": "markdown",
   "metadata": {},
   "source": [
    "Antes de empezar a resolver los problemas de este notebook, asegúrate de que todo funciona como es debido. Primero, **reinicia el kernel** (En el menú superior, selecciona Kernel$\\rightarrow$Restart) y después **ejecuta todas las celdas** (en el menú, selecciona Cell$\\rightarrow$Run All).\n",
    "\n",
    "Asegúrate también de que rellanas todas las partes que pongan `ESCRIBE AQUI TU CODIGO` or \"ESCRIBE AQUI TU RESPUESTA\", así como tu nombre y el de tu pareja EN NAME_1 y COLLABORATORS respectivamente (entre las comillas)."
   ]
  },
  {
   "cell_type": "code",
   "execution_count": null,
   "metadata": {},
   "outputs": [],
   "source": [
    "NAME_1 = \"\"\n",
    "COLLABORATORS = \"\""
   ]
  },
  {
   "cell_type": "markdown",
   "metadata": {},
   "source": [
    "---"
   ]
  },
  {
   "cell_type": "markdown",
   "metadata": {
    "deletable": false,
    "editable": false,
    "nbgrader": {
     "checksum": "f1e08fc03a0b8cb80c590708ffa9a4d9",
     "grade": false,
     "grade_id": "cell-695f2338711fc7c8",
     "locked": true,
     "schema_version": 1,
     "solution": false
    }
   },
   "source": [
    "# Práctica 1: Sopa de números\n",
    "\n",
    "## Discusión \n",
    "En esta práctica vas a aplicar lo que has aprendido en los cuatro primeros talleres de la asignatura y en particular el tratamiento de cadenas y los bucles. Te recomiendo que leas este enunciado varias veces para entender bien lo que se pide. Si a pesar de ello aún tienes dudas, puedes consultarme a través del foro de la asignatura creado para comentar esta práctica o reservar una hora de tutoría. **No respondo dudas referentes a la práctica por correo.**\n",
    "\n",
    "Dada una matriz cuadrada de orden n, se pueden formar secuencias de elementos contiguos en **tres direcciones**: Horizontal, vertical y diagonal y en **ocho sentidos** distintos, respectivamente:\n",
    "1. Horizontal\n",
    "    1. Izquierda-derecha.\n",
    "    2. Derecha-izquierda.\n",
    "2. Vertical \n",
    "    1. Arriba-abajo.\n",
    "    2. Abajo-arriba.\n",
    "3. Diagonal\n",
    "    1. Izquierda-derecha y Arriba-abajo.\n",
    "    2. Izquierda-derecha y Abajo-arriba.\n",
    "    3. Derecha-izquierda y Arriba-abajo.\n",
    "    4. Derecha-izquierda y Abajo-arriba.\n",
    "    \n",
    "Como ejemplo, consideremos la siguiente matriz M de dimensión cinco:\n",
    "\n",
    "$$ M_{1} = \n",
    " \\begin{matrix}\n",
    "  6 & 2 & 9 & 5 & 9 \\\\\n",
    "  2 & 9 & 6 & 7 & 8 \\\\\n",
    "  4 & 2 & 8 & 8 & 7 \\\\\n",
    "  2 & 2 & 7 & 4 & 2 \\\\\n",
    "  2 & 2 & 3 & 2 & 2\n",
    " \\end{matrix} $$\n",
    "\n",
    "Podremos formar números de cinco o menos dígitos, de los cuales por definición, unos serán pares y otros impares.\n",
    "En el caso de la matriz M, los cuatro números de cinco dígitos más grandes de toda la matriz (obviamente son aquellos que empiezan por 9) son los que se encuentran en las siguientes posiciones, resultantes de buscar en todas las direcciones y sentidos mencionados anteriormente:\n",
    "\n",
    "$$\n",
    "\\begin{align}\n",
    "n_{1} = a_{0,4}a_{1,4}a_{2,4}a_{3,4}a_{4,4} = 98722\\\\\n",
    "n_{2} = a_{0,4}a_{1,3}a_{2,2}a_{3,1}a_{4,0} = 97822\\\\\n",
    "n_{3} = a_{0,2}a_{1,2}a_{2,2}a_{3,2}a_{4,2} = 96873\\\\\n",
    "n_{4} = a_{0,2}a_{1,2}a_{2,2}a_{3,2}a_{4,2} = 95926\n",
    "\\end{align}\n",
    "$$\n",
    "\n",
    "De los números obtenidos, $n_{1}, n_{2}, n_{4}$ son pares mientras que $n_{3}$ es impar, por lo tanto el mayor número impar que puedo formar a partir de posiciones contiguas de la matriz es $n_{3}$ y el mayor número par es $n_{1}$.\n",
    "\n",
    "## Enunciado\n",
    "Se pide implementar en código la función encuentra_maximo (se proporciona una plantilla en la celda de respuesta) que recibe un único argumento \"sopa\" y devuelve **el mayor número entero impar** encontrado en la matriz. El formato empleado se puede ver en el siguiente ejemplo, en el que se codifica la matriz M vista anteriormente y se pasa a dicha función, que devuelve la solución (El ejemplo imprime por pantalla 96873).\n",
    "\n",
    "```python\n",
    "sopa ='''62959\\n29678\\n42887\\n22742\\n22322'''\n",
    "print(encuentra_maximo(sopa))\n",
    "\n",
    "sopa ='''62959\\n29678\\n42887\\n22742\\n22322'''\n",
    "print(encuentra_maximo(sopa))\n",
    "```\n",
    "\n",
    "Es importante considerar aquellos casos en los que la longitud del resultado no coincide con la dimensión de la matriz. Veamos otro ejemplo con una matriz $M_{2}$ resultante de modificar la empleada en el ejemplo anterior.\n",
    "\n",
    "$$ M_{2} = \n",
    " \\begin{matrix}\n",
    "  6 & 2 & 6 & 6 & 8 \\\\\n",
    "  2 & 9 & 6 & 7 & 8 \\\\\n",
    "  4 & 2 & 8 & 8 & 6 \\\\\n",
    "  2 & 2 & 7 & 4 & 2 \\\\\n",
    "  2 & 2 & 4 & 2 & 2\n",
    " \\end{matrix} $$\n",
    "\n",
    "Al variar algunos dígitos no es posible encontrar un número impar de cinco cifras, así que la solución estaría en los de cuatro. Es fácil imaginar situaciones análogas en las que sería necesario aumentar la búsqueda aún más, a números de tres e incluso dos cifras, que tu código deberá resolver también. \n",
    "\n",
    "*NOTA: Para terminar la práctica, explica tu solución en la última usando celda de respuesta de texto*\n",
    "\n",
    "\n",
    "## Consideraciones y consejos\n",
    "1. Tu solución funcionara para cualquier matriz M de entrada de dimensión $n\\geq2$ tal que $ \\forall a_{i,j} \\in M, a_{i,j} \\geq 0$ \n",
    "2. Para aprobar la práctica, es necesario que tu código al menos encuentre una solución considerando filas y columnas en todas las direcciones y sentidos posibles.\n",
    "3. **Cuidado** con los ceros al principio: $12340 > 04321 $\n",
    "4. Si no existen números impares en toda la matriz, la función *encuentra_maximo* devolverá -1.\n",
    "5. Se considerará positivamente la claridad, limpieza y simplicidad del código. Cuanto más concisa, elegante y rápida sea tu solución, mejor.\n",
    "6. Si copias código de Internet, asegúrate de que lo entiendes, puede que tengas que explicarlo en una defensa si tengo dudas de su autoría. \n",
    "7. Creo que sobra decirlo pero **no compartáis código fuera de la pareja.**\n",
    "8. Te aconsejo que muestres el número de línea para encontrar rápidamente los errores que tengas al programar. Para ello vete a: View -> Toggle Line Numbers\".\n",
    "9. Salva tu trabajo a menudo utilizando el icono del disquete de la esquina superior izquierda.\n",
    "10. Como pista, en la casilla de respuesta te he dejado las signaturas de algunas funciones que considero que son útiles para resolver el problema. Si no sabes por dónde empezar, piensa en qué casos llamarías a estas funciones. Puedes (y debes) declarar tú otras funciones que consideres oportunas para la correcta resolución de la práctica. **El único requisito es que exista una función llamada encuentra_maximo, que reciba un argumento y devuelva el resultado como se ha explicado**.\n",
    "11. Las soluciones que añadan **comentarios** al código (Usando el caracter almohadilla #) serán evaluadas positivamente.\n",
    "\n",
    "\n",
    "\n",
    "## Tests\n",
    "Si usas la opción del notebook \"Validate\", tu código se evaluará contra una serie de tests, que te darán una pista de cómo de buena es tu solución. Los tests se ejecutan en orden creciente de complejidad (los primeros tests prueban funcionalidad más básica). Para hacerte una idea, tu código debería pasar los **primeros siete** tests para que apruebes la práctica. \n",
    "**IMPORTANTE: Que tu código pase los tests no es sinónimo de que la práctica esté aprobada**.\n",
    "\n",
    "\n",
    "## Cuidado\n",
    "1. Asegúrate de que tu código cumple los requisitos de esta práctica y que **no da errores**. Los envíos que den error no serán corregidos y la nota obtenida será un 0.\n",
    "1. **NO** uses la función de entrada por teclado *input*. Puedes usar *print* para imprimir mensajes de debug durante la realización de la práctica, pero asegúrate de eliminarlos cuando vayas entregarla.\n",
    "2. Emplea sólo lo explicado hasta el lab 3 de la asignatura.\n",
    "3. No se evaluarán:\n",
    "    1. Soluciones que den error.\n",
    "    2. Soluciones que empleen listas, matrices, objetos o cualquier otra característica del lenguaje no explicada en los cuatro primeros laboratorios prácticos de la asignatura (hasta lab 3).\n",
    "    3. Soluciones que empleen la sentencia **import** para hacer uso de paquetes estándar o de terceros. \n",
    "    4. **El límite de entrega estricto es el 20 de Diciembre de 2017 a las 0:00 horas. No se corregirán prácticas entregadas después.**\n"
   ]
  },
  {
   "cell_type": "code",
   "execution_count": 1,
   "metadata": {
    "deletable": false,
    "nbgrader": {
     "checksum": "94e740be8cb8d33e025345c01872356a",
     "grade": false,
     "grade_id": "cell-bd20e5bfdf98ae5d",
     "locked": false,
     "schema_version": 1,
     "solution": true
    }
   },
   "outputs": [],
   "source": [
    "\n",
    "#Extrae la dimensión de la sopa de entrada. \n",
    "def extrae_dimension(soup):\n",
    "    \"\"\"Extrae la dimensión de la sopa de números\"\"\"\n",
    "    return soup.count('\\n') + 1\n",
    "\n",
    "#Devuelve el caracter en la posicion [fila, columna] de la sopa, dada la dimension de la misma\n",
    "def char_at_position(soup, dim, fila, columna):\n",
    "    return soup[(dim+1)*fila + columna]\n",
    "\n",
    "\n",
    "def encuentra_maximo(sopa):\n",
    "    return -1"
   ]
  },
  {
   "cell_type": "code",
   "execution_count": null,
   "metadata": {
    "deletable": false,
    "editable": false,
    "nbgrader": {
     "checksum": "8bfd649b91b2d2f6a7326545e308693d",
     "grade": true,
     "grade_id": "cell-d4ed2c868ea8d714",
     "locked": true,
     "points": 10,
     "schema_version": 1,
     "solution": false
    }
   },
   "outputs": [],
   "source": [
    "#Aprobado\n",
    "##Sin números impares\n",
    "assert(encuentra_maximo('''62\\n28''') == -1)\n",
    "##2x2\n",
    "assert(encuentra_maximo('''62\\n27''') == 67)\n",
    "\n",
    "#5x5\n",
    "##Columna arriba-abajo\n",
    "assert(encuentra_maximo('''62959\\n29678\\n42887\\n22742\\n22322''') == 96873)\n",
    "##Columna abajo-arriba\n",
    "assert(encuentra_maximo('''62656\\n29678\\n42886\\n22742\\n22222''') == 24875)\n",
    "##Fila izquierda-derecha\n",
    "assert(encuentra_maximo('''62656\\n29679\\n42886\\n22742\\n22222''') == 29679)\n",
    "##Fila derecha-izquierda\n",
    "assert(encuentra_maximo('''62656\\n79679\\n42886\\n22742\\n22222''') == 97697)\n",
    "\n",
    "#10x10\n",
    "\n",
    "assert(encuentra_maximo('''6743605871\\n1820953321\\n8958054851\\n7486519455\\n1389386144\\n4672017818\\n9082874626\\n6728050071\\n1684990063\\n4374367650''') == 8958054851)\n",
    "\n",
    "\n",
    "##Diagonales\n",
    "assert(encuentra_maximo('''92656\\n79679\\n42886\\n22782\\n22221''') == 99881)\n",
    "assert(encuentra_maximo('''32651\\n71674\\n42885\\n22742\\n72223''') == 72871)\n",
    "assert(encuentra_maximo('''32659\\n79674\\n42886\\n22742\\n12229''') == 97821)\n",
    "assert(encuentra_maximo('''32639\\n79674\\n42886\\n22742\\n22229''') == 94893)\n",
    "\n",
    "#Soluciones con m < n\n",
    "assert(encuentra_maximo('''41622\\n24084\\n42084\\n27746\\n40220''') == 7241)\n",
    "assert(encuentra_maximo('''42622\\n24684\\n42084\\n22742\\n42220''') == 6607)\n",
    "assert(encuentra_maximo('''44444\\n44444\\n44944\\n44444\\n44444''') == 449)\n",
    "assert(encuentra_maximo('''4444\\n4444\\n4944\\n4444''') == 449)\n"
   ]
  },
  {
   "cell_type": "markdown",
   "metadata": {
    "deletable": false,
    "nbgrader": {
     "checksum": "73a8f1e1712527b733aa638e8b2967cf",
     "grade": true,
     "grade_id": "cell-d150ccb27c7334e8",
     "locked": false,
     "points": 0,
     "schema_version": 1,
     "solution": true
    }
   },
   "source": [
    "ESCRIBE AQUI TU RESPUESTA"
   ]
  }
 ],
 "metadata": {
  "kernelspec": {
   "display_name": "Python 3",
   "language": "python",
   "name": "python3"
  },
  "language_info": {
   "codemirror_mode": {
    "name": "ipython",
    "version": 3
   },
   "file_extension": ".py",
   "mimetype": "text/x-python",
   "name": "python",
   "nbconvert_exporter": "python",
   "pygments_lexer": "ipython3",
   "version": "3.6.5"
  }
 },
 "nbformat": 4,
 "nbformat_minor": 1
}
