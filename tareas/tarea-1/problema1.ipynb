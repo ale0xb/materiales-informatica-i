{
 "cells": [
  {
   "cell_type": "markdown",
   "metadata": {},
   "source": [
    "Antes de empezar a resolver los problemas de este notebook, asegúrate de que todo funciona como es debido. Primero, **reinicia el kernel** (En el menú superior, selecciona Kernel$\\rightarrow$Restart) y después **ejecuta todas las celdas** (en el menú, selecciona Cell$\\rightarrow$Run All).\n",
    "\n",
    "Asegúrate también de que rellanas todas las partes que pongan `ESCRIBE AQUI TU CODIGO` or \"ESCRIBE AQUI TU RESPUESTA\", así como tu nombre y el de tu pareja EN NAME_1 y COLLABORATORS respectivamente (entre las comillas)."
   ]
  },
  {
   "cell_type": "code",
   "execution_count": 3,
   "metadata": {},
   "outputs": [],
   "source": [
    "NAME_1 = \"\"\n",
    "COLLABORATORS = \"\""
   ]
  },
  {
   "cell_type": "markdown",
   "metadata": {},
   "source": [
    "---"
   ]
  },
  {
   "cell_type": "markdown",
   "metadata": {
    "deletable": false,
    "editable": false,
    "nbgrader": {
     "checksum": "fcad74048b8f36132ce386d51ca66029",
     "grade": false,
     "grade_id": "jupyter",
     "locked": true,
     "schema_version": 1,
     "solution": false
    }
   },
   "source": [
    "![](jupyter.png)\n",
    "\n",
    "Con este notebook vamos a explicar el funcionamiento de los notebooks entregables sobre los que se realizará el seguimiento de las prácticas semanales. En ellos se plantearán problemas sobre los conceptos explicados en clase, y se han de entregar durante la segunda hora de prácticas. \n",
    "\n",
    "La particularidad de estos notebooks es que contienen **\"celdas de tarea o pregunta\"**. Estas celdas están diseñadas para que practiques lo aprendido en la primera hora de clase. Para ello, cada una de estas celdas almacenará las respuestas a los problemas que tendrás que enviarme al final de cada sesión. \n",
    "\n",
    "Cada notebook entregable tiene un total de puntos máximos a conseguir que variará dependiendo de la sesión. Este notebook por ejemplo tiene **6 puntos**.\n",
    "\n",
    "Vamos a explicar ahora los distintos tipos de celdas que te podrás encontrar en este tipo de cuestionarios."
   ]
  },
  {
   "cell_type": "markdown",
   "metadata": {
    "deletable": false,
    "editable": false,
    "nbgrader": {
     "checksum": "b59fe9cc0c1641f85f161653215a06fb",
     "grade": false,
     "grade_id": "cell-7894baf0b284f593",
     "locked": true,
     "schema_version": 1,
     "solution": false
    }
   },
   "source": [
    "---\n",
    "## Celda de respuesta de texto (2 puntos)\n",
    "\n",
    "En estas celdas se espera que escribáis una respuesta en texto a una pregunta dada. La respuesta será evaluada por el profesor hasta un máximo de los puntos indicados (en este caso 2). \n",
    "En un primer ejemplo sencillo contesta, usando tus propias palabras, las siguientes preguntas: (Puedes buscar en Internet información)\n",
    "\n",
    "1. ¿En qué se diferencia la variable x=25 de la variable x=\"25\"\n",
    "2. ¿Qué valor en binario tiene cada una, si empleamos una codificación ASCII? "
   ]
  },
  {
   "cell_type": "markdown",
   "metadata": {
    "deletable": false,
    "nbgrader": {
     "checksum": "7b111322b6c6ccccd3db6e05ebbbe728",
     "grade": true,
     "grade_id": "cell-b4c5d2801ddd2f91",
     "locked": false,
     "points": 2,
     "schema_version": 1,
     "solution": true
    }
   },
   "source": [
    "ESCRIBE AQUI TU RESPUESTA"
   ]
  },
  {
   "cell_type": "markdown",
   "metadata": {},
   "source": [
    "## Celda de respuesta de código simple\n",
    "Además de texto, a menudo deberéis escribir código en los notebooks. \n",
    "Como ejemplo, vamos ahora a calcular el área de un hexágono en código. \n",
    "Define ahora debajo las variables necesarias para calcular el área de un hexágono regular (lado y apotema), a introducir por entrada estándar.\n",
    "Con el valor que has recogido, opera y guarda el resultado empleando valores diferentes para las variables en otra variable respetando las normas de estilo."
   ]
  },
  {
   "cell_type": "code",
   "execution_count": 5,
   "metadata": {
    "deletable": false,
    "nbgrader": {
     "checksum": "4cff55139367a20f271d49a31c63b238",
     "grade": true,
     "grade_id": "cell-5f45a8960d8c1b88",
     "locked": false,
     "points": 2,
     "schema_version": 1,
     "solution": true
    }
   },
   "outputs": [
    {
     "name": "stdout",
     "output_type": "stream",
     "text": [
      "Longitud del lado3\n",
      "Longitud de la apotema3\n",
      "27\n"
     ]
    }
   ],
   "source": [
    "# ESCRIBE AQUI TU CODIGO\n",
    "lado = input(\"Longitud del lado\")\n",
    "apotema = input(\"Longitud de la apotema\")\n",
    "area = 3 * int(lado) * int(apotema)\n",
    "print(area)"
   ]
  },
  {
   "cell_type": "markdown",
   "metadata": {},
   "source": [
    "## Celda de respuesta de código compleja (2 puntos)\n",
    "\n",
    "En este segundo tipo de celdas se espera que escribáis código (a ser posible que funcione!). Este código a su vez, tendrá que realizar ciertas funcionames y a veces se comprobará en las siguientes celdas que así sea.\n",
    "En este tipo de celdas podrás comprobar que tu respuesta es válida. No te recomiendo entregar ejercicios cuya respuesta no sea válida: Se evaluarán negativamente.\n"
   ]
  },
  {
   "cell_type": "markdown",
   "metadata": {},
   "source": [
    "Busca ahora el código del algoritmo de Euclides en Python visto en clase de teoría y completa lo que falta en la siguiente celda:"
   ]
  },
  {
   "cell_type": "code",
   "execution_count": 4,
   "metadata": {
    "deletable": false,
    "nbgrader": {
     "checksum": "4c436e60d18e5d4b7b24fe2f232b0e59",
     "grade": false,
     "grade_id": "squares",
     "locked": false,
     "schema_version": 1,
     "solution": true
    }
   },
   "outputs": [],
   "source": [
    "def mcd(a, b):\n",
    "    \"\"\"Algoritmo de Euclides para el cálculo del M.C.D\n",
    "    \"\"\"    \n",
    "    print('blau')"
   ]
  },
  {
   "cell_type": "markdown",
   "metadata": {},
   "source": [
    "Tu código debería sacar por pantalla `4` para a=12 y b=8. Comprueba que es así:"
   ]
  },
  {
   "cell_type": "code",
   "execution_count": 5,
   "metadata": {
    "deletable": false,
    "editable": false,
    "nbgrader": {
     "checksum": "652b6cc3488397f5c2817befd1660da5",
     "grade": false,
     "grade_id": "cell-0a7ab31e37252fd4",
     "locked": true,
     "schema_version": 1,
     "solution": false
    }
   },
   "outputs": [
    {
     "name": "stdout",
     "output_type": "stream",
     "text": [
      "blau\n"
     ]
    }
   ],
   "source": [
    "mcd(2,0)"
   ]
  },
  {
   "cell_type": "code",
   "execution_count": null,
   "metadata": {
    "deletable": false,
    "editable": false,
    "nbgrader": {
     "checksum": "5c8e2cda0d3254e57273b6083e429eed",
     "grade": true,
     "grade_id": "correct_squares",
     "locked": false,
     "points": 2,
     "schema_version": 1,
     "solution": false
    }
   },
   "outputs": [],
   "source": [
    "\"\"\"Comprueba que la salida es correcta para un cierto número de entradas distintas\"\"\"\n",
    "assert mcd(8, 12) == 4\n",
    "assert mcd(2, 2) == 2\n",
    "assert mcd(0, 2) == 2\n",
    "assert mcd(0, 0) == 0\n",
    "assert mcd(100, 1000) == 100"
   ]
  },
  {
   "cell_type": "markdown",
   "metadata": {
    "deletable": false,
    "editable": false,
    "nbgrader": {
     "checksum": "3a37d78635effa1d035feb73b3c5bdda",
     "grade": false,
     "grade_id": "cell-a9bc9b237a7a2df5",
     "locked": true,
     "schema_version": 1,
     "solution": false
    }
   },
   "source": [
    "---\n",
    "\n",
    "## Rizando el rizo 🌀 (3 puntos)\n",
    "Para terminar, normalmente os pediré que completéis un ejercicio de los de \"idea feliz\", para asegurarme de que os váis de clase con todo aprendido.\n",
    "\n",
    "Por ejemplo, si te digo que el mcm se define como: \n",
    "\\begin{align}\n",
    "mcd(a,b) & = \\frac{a \\cdot b}{MCM(a,b)} \\\\\n",
    "\\end{align}\n",
    "\n",
    "\n",
    "¿Podrías cambiar la función *mcd* para que devuelva el mínimo común múltiplo de a y b?"
   ]
  },
  {
   "cell_type": "code",
   "execution_count": null,
   "metadata": {
    "deletable": false,
    "nbgrader": {
     "checksum": "d9b27e2d17bb66723c118e3a6e6f6cea",
     "grade": false,
     "grade_id": "sum_of_squares_application",
     "locked": false,
     "schema_version": 1,
     "solution": true
    }
   },
   "outputs": [],
   "source": [
    "def mcm(a, b):\n",
    "    \"\"\"Función para el cálculo del M.C.M. de 2 número (basada en el M.C.D.)\n",
    "        \"\"\"\n",
    "    num = a * b\n",
    "    # ESCRIBE AQUI TU CODIGO\n",
    "    raise NotImplementedError()"
   ]
  },
  {
   "cell_type": "code",
   "execution_count": null,
   "metadata": {},
   "outputs": [],
   "source": [
    "mcm(2, 4)"
   ]
  },
  {
   "cell_type": "code",
   "execution_count": null,
   "metadata": {
    "deletable": false,
    "editable": false,
    "nbgrader": {
     "checksum": "39aadff39c45bad114c58666c2360995",
     "grade": true,
     "grade_id": "cell-e3279643d328ccd7",
     "locked": true,
     "points": 2,
     "schema_version": 1,
     "solution": false
    }
   },
   "outputs": [],
   "source": [
    "assert mcm(8, 12) == 24\n",
    "assert mcm(2, 2) == 2\n",
    "assert mcm(0, 2) == 0\n",
    "assert mcm(0, 0) == 0\n",
    "assert mcm(100, 1000) == 1000"
   ]
  }
 ],
 "metadata": {
  "kernelspec": {
   "display_name": "Python 3",
   "language": "python",
   "name": "python3"
  },
  "language_info": {
   "codemirror_mode": {
    "name": "ipython",
    "version": 3
   },
   "file_extension": ".py",
   "mimetype": "text/x-python",
   "name": "python",
   "nbconvert_exporter": "python",
   "pygments_lexer": "ipython3",
   "version": "3.5.3"
  }
 },
 "nbformat": 4,
 "nbformat_minor": 1
}
