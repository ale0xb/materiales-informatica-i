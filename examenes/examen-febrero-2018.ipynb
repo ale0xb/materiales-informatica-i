{
 "cells": [
  {
   "cell_type": "markdown",
   "metadata": {},
   "source": [
    "## Grado en Estadística: Informática I - Prueba práctica Enero 2018"
   ]
  },
  {
   "cell_type": "markdown",
   "metadata": {},
   "source": [
    "1. El examen consta de dos ejercicios que tendrás **1 hora** en total para resolver. Cuando haya pasado el tiempo (1 hora) se te pedirá que dejes de teclear y se recogerán las respuestas.\n",
    "2. Antes de comenzar completa con tu nombre y DNI la siguiente celda.\n",
    "3. Está prohibido hablar. Si tienes alguna duda levanta la mano.\n",
    "4. Apaga tu móvil y guárdalo.\n",
    "5. Si el programa da error la nota es 0. Recuerda: A efectos de calificación se premia la calidad y no la cantidad.\n",
    "6. Los ejercicios están pensados para ser resueltos secuencialmente: No es aconsejable que intentes solucionar uno sin haber terminado antes el anterior.\n",
    "7. Se valorarán las soluciones modulares, concisas, limpias y que empleen un buen estilo de código (comentarios, etc). \n",
    "8. Elimina las llamadas a print() que hayas usado antes de entregar el ejercicio.\n",
    "9. No uses input() en ningún caso.\n",
    "10. Si terminas antes de tiempo levanta la mano para que se recoja tu ejercicio y poder abandonar el aula.\n",
    "\n",
    "#### No añadas nuevas celdas al notebook, usa sólo las celdas ya creadas para responder a cada ejercicio,"
   ]
  },
  {
   "cell_type": "markdown",
   "metadata": {},
   "source": [
    "- NOMBRE COMPLETO: \n",
    "- DNI: "
   ]
  },
  {
   "cell_type": "markdown",
   "metadata": {},
   "source": [
    "# Ejercicio 1 (3 puntos)\n",
    "## 1.1 Genera tablas de multiplicar (1 punto)\n",
    "Implementa en código la función genera_tabla, que devuelve una **tupla** con las n primeras entradas de la tabla de multiplicar indicada en el primer argumento. n se proporciona como segundo argumento.\n",
    "\n",
    "```python\n",
    "genera_tabla(5, 8) \n",
    "#Genera los 9 primeros números de la tabla del 5\n",
    ">(0, 5, 10, 15, 20, 25, 30, 35, 40)\n",
    "\n",
    "genera_tabla(12, 4) \n",
    "#Imprime los 5 primeros números de la tabla del 7:\n",
    ">(0, 12, 24, 36, 48)\n",
    "```"
   ]
  },
  {
   "cell_type": "code",
   "execution_count": 1,
   "metadata": {},
   "outputs": [],
   "source": [
    "def genera_tabla(tabla, n):\n",
    "    return lista"
   ]
  },
  {
   "cell_type": "markdown",
   "metadata": {},
   "source": [
    "## 1.2 Agrupa listas (2 puntos)\n",
    "Haz las modificaciones necesarias a la función genera_tabla, para que ahora se devuelva la misma tupla que en el ejercicio anterior, pero esta vez agrupada en subtuplas de g elementos (g es un elemento adicional que se proporciona a la función).\n",
    "\n",
    "```python\n",
    "genera_tabla(5, 8, 2) \n",
    "#Genera los 9 primeros números de la tabla del 5\n",
    ">((0, 5), (10, 15), (20, 25), (30, 35), (40,))\n",
    "\n",
    "genera_tabla(12, 4) \n",
    "#Imprime los 5 primeros números de la tabla del 7:\n",
    ">(0, 12, 24, 36, 48)\n",
    "```\n"
   ]
  },
  {
   "cell_type": "code",
   "execution_count": null,
   "metadata": {},
   "outputs": [],
   "source": [
    "def genera_tabla(tabla, n, g):\n",
    "    return tupla"
   ]
  },
  {
   "cell_type": "markdown",
   "metadata": {},
   "source": [
    "# Ejercicio 2 (4 puntos)\n",
    "## 2.1 (1.5 puntos)\n",
    "Implementa la función \"rellena_matriz\", que inserta en una matriz de 5x5 que se pasa como argumento los 25 primeros dígitos resultantes de concatenar las entradas de la tabla de multiplicar dada (contando el 0). \n",
    "\n",
    "## 2.2 (1.5 puntos)\n",
    "Haz las modificaciones necesarias, para que en caso de no haber suficientes dígitos en la tabla, se añadan de nuevo dígitos empezando por el principio, hasta llegar a los 25 necesarios. \n",
    "\n",
    "**Nota: La función no devolverá nada, se operará con la matriz por referencia**\n",
    "\n",
    "Ejemplo:\n",
    "\n",
    "```python\n",
    "matriz = []\n",
    "rellena_matriz(15, matriz) \n",
    "print(matriz)\n",
    "[[0, 1, 5, 3, 0], [4, 5, 6, 0, 7], [5, 9, 0, 1, 0], [5, 1, 2, 0, 1], [3, 5, 1, 5, 0]]\n",
    "\n",
    "matriz_2 = [] \n",
    "rellena_matriz(9, matriz_2) \n",
    "print(matriz_2)\n",
    "#Imprime los 5 primeros números de la tabla del 7:\n",
    ">[[0, 9, 1, 8, 2], [7, 3, 6, 4, 5], [5, 4, 6, 3, 7], [2, 8, 1, 9, 0], [0, 9, 1, 8, 2]] #Como no hay suficientes números, se empieza añadiendo desde el principio. \n",
    "```"
   ]
  },
  {
   "cell_type": "code",
   "execution_count": 53,
   "metadata": {},
   "outputs": [
    {
     "name": "stdout",
     "output_type": "stream",
     "text": [
      "0153045607590105120135150\n",
      "[[0, 1, 5, 3, 0], [4, 5, 6, 0, 7], [5, 9, 0, 1, 0], [5, 1, 2, 0, 1], [3, 5, 1, 5, 0]]\n"
     ]
    }
   ],
   "source": [
    "matriz = []\n",
    "def rellena_matriz(tabla, matriz):\n",
    "    return #La función NO devuelve nada"
   ]
  },
  {
   "cell_type": "markdown",
   "metadata": {},
   "source": [
    "## 2.3 (1 punto)\n",
    "Por último escribe una función que devuelva el dígito o los dígitos que aparezcan en todas las sublistas (filas) de una matriz dada.\n",
    "```python\n",
    "matriz = []\n",
    "rellena_matriz(15, matriz) \n",
    "print(matriz)\n",
    "[[0, 1, 5, 3, 0], [4, 5, 6, 0, 7], [5, 9, 0, 1, 0], [5, 1, 2, 0, 1], [3, 5, 1, 5, 0]]\n",
    "print(coincidentes(matriz))\n",
    ">[0, 5] #El 0 y el 5 son los únicos dígitos que aparecen en las 5 sublistas\n",
    "```"
   ]
  },
  {
   "cell_type": "code",
   "execution_count": 2,
   "metadata": {},
   "outputs": [],
   "source": [
    "def coincidentes(matriz):\n",
    "    return resultado"
   ]
  },
  {
   "cell_type": "markdown",
   "metadata": {},
   "source": [
    "# Ejercicio 4 (3 puntos)\n",
    "## 4.1 (1.5 punto)\n",
    "Implementa la función \"calcula_medias\", que dada una matriz 5x5, calcule la media de cada una de las filas, columnas y diagonales y las almacene en un diccionario que se devuelve mediante la expresión **return**. "
   ]
  },
  {
   "cell_type": "code",
   "execution_count": 48,
   "metadata": {},
   "outputs": [],
   "source": [
    "def calcula_medias(matriz):\n",
    "    return dic_medias"
   ]
  },
  {
   "cell_type": "markdown",
   "metadata": {},
   "source": [
    "## 4.2 (1.5 punto)\n",
    "Crea ahora una función que recorra el diccionario creado en el apartado anterior y calcule el resultado de sumar todas las medias almacenadas en él."
   ]
  },
  {
   "cell_type": "code",
   "execution_count": null,
   "metadata": {},
   "outputs": [],
   "source": [
    "def suma_medias(diccionario)"
   ]
  }
 ],
 "metadata": {
  "kernelspec": {
   "display_name": "Python 3",
   "language": "python",
   "name": "python3"
  },
  "language_info": {
   "codemirror_mode": {
    "name": "ipython",
    "version": 3
   },
   "file_extension": ".py",
   "mimetype": "text/x-python",
   "name": "python",
   "nbconvert_exporter": "python",
   "pygments_lexer": "ipython3",
   "version": "3.5.3"
  }
 },
 "nbformat": 4,
 "nbformat_minor": 2
}
