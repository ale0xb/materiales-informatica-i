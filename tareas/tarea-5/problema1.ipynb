{
 "cells": [
  {
   "cell_type": "markdown",
   "metadata": {},
   "source": [
    "Antes de empezar a resolver los problemas de este notebook, asegúrate de que todo funciona como es debido. Primero, **reinicia el kernel** (En el menú superior, selecciona Kernel$\\rightarrow$Restart) y después **ejecuta todas las celdas** (en el menú, selecciona Cell$\\rightarrow$Run All).\n",
    "\n",
    "Asegúrate también de que rellanas todas las partes que pongan `ESCRIBE AQUI TU CODIGO` or \"ESCRIBE AQUI TU RESPUESTA\", así como tu nombre y el de tu pareja EN NAME_1 y COLLABORATORS respectivamente (entre las comillas)."
   ]
  },
  {
   "cell_type": "code",
   "execution_count": null,
   "metadata": {},
   "outputs": [],
   "source": [
    "NAME_1 = \"\"\n",
    "COLLABORATORS = \"\""
   ]
  },
  {
   "cell_type": "markdown",
   "metadata": {},
   "source": [
    "---"
   ]
  },
  {
   "cell_type": "markdown",
   "metadata": {
    "deletable": false,
    "editable": false,
    "nbgrader": {
     "checksum": "451c65022cecb00c7b22bf5cfe0960b1",
     "grade": false,
     "grade_id": "cell-d13cbeb4f498e98e",
     "locked": true,
     "schema_version": 1,
     "solution": false
    }
   },
   "source": [
    "# Ejercicio 1:\n",
    "\n",
    "Completa las funciones dadas para que pasen los tests que se muestran debajo:"
   ]
  },
  {
   "cell_type": "code",
   "execution_count": 1,
   "metadata": {
    "deletable": false,
    "nbgrader": {
     "checksum": "f4c5d25b3f2cbe2969cbe0672bee841a",
     "grade": false,
     "grade_id": "cell-ce887e66c886e184",
     "locked": false,
     "schema_version": 1,
     "solution": true
    }
   },
   "outputs": [],
   "source": [
    "import copy\n",
    "\n",
    "def anade_fila(matriz):\n",
    "    # ESCRIBE AQUI TU CODIGO\n",
    "    raise NotImplementedError()\n",
    "\n",
    "def anade_columna(matriz):\n",
    "    # ESCRIBE AQUI TU CODIGO\n",
    "    raise NotImplementedError()\n"
   ]
  },
  {
   "cell_type": "code",
   "execution_count": 2,
   "metadata": {
    "deletable": false,
    "editable": false,
    "nbgrader": {
     "checksum": "6f770ca64d0a9bcccbbedd64a277db48",
     "grade": true,
     "grade_id": "cell-2fb372da06681186",
     "locked": true,
     "points": 5,
     "schema_version": 1,
     "solution": false
    }
   },
   "outputs": [
    {
     "ename": "NotImplementedError",
     "evalue": "",
     "output_type": "error",
     "traceback": [
      "\u001b[0;31m---------------------------------------------------------------------------\u001b[0m",
      "\u001b[0;31mNotImplementedError\u001b[0m                       Traceback (most recent call last)",
      "\u001b[0;32m<ipython-input-2-04e1127e2752>\u001b[0m in \u001b[0;36m<module>\u001b[0;34m()\u001b[0m\n\u001b[1;32m      1\u001b[0m \u001b[0mm\u001b[0m \u001b[0;34m=\u001b[0m \u001b[0;34m[\u001b[0m\u001b[0;34m[\u001b[0m\u001b[0;36m0\u001b[0m\u001b[0;34m,\u001b[0m \u001b[0;36m0\u001b[0m\u001b[0;34m]\u001b[0m\u001b[0;34m,\u001b[0m \u001b[0;34m[\u001b[0m\u001b[0;36m0\u001b[0m\u001b[0;34m,\u001b[0m \u001b[0;36m0\u001b[0m\u001b[0;34m]\u001b[0m\u001b[0;34m]\u001b[0m\u001b[0;34m\u001b[0m\u001b[0m\n\u001b[1;32m      2\u001b[0m \u001b[0mn\u001b[0m \u001b[0;34m=\u001b[0m \u001b[0;34m[\u001b[0m\u001b[0;34m[\u001b[0m\u001b[0;36m3\u001b[0m\u001b[0;34m,\u001b[0m \u001b[0;36m2\u001b[0m\u001b[0;34m,\u001b[0m \u001b[0;36m5\u001b[0m\u001b[0;34m]\u001b[0m\u001b[0;34m,\u001b[0m \u001b[0;34m[\u001b[0m\u001b[0;36m1\u001b[0m\u001b[0;34m,\u001b[0m \u001b[0;36m4\u001b[0m\u001b[0;34m,\u001b[0m \u001b[0;36m7\u001b[0m\u001b[0;34m]\u001b[0m\u001b[0;34m]\u001b[0m\u001b[0;34m\u001b[0m\u001b[0m\n\u001b[0;32m----> 3\u001b[0;31m \u001b[0;32massert\u001b[0m\u001b[0;34m(\u001b[0m\u001b[0manade_fila\u001b[0m\u001b[0;34m(\u001b[0m\u001b[0mm\u001b[0m\u001b[0;34m)\u001b[0m \u001b[0;34m==\u001b[0m \u001b[0;34m[\u001b[0m\u001b[0;34m[\u001b[0m\u001b[0;36m0\u001b[0m\u001b[0;34m,\u001b[0m \u001b[0;36m0\u001b[0m\u001b[0;34m]\u001b[0m\u001b[0;34m,\u001b[0m \u001b[0;34m[\u001b[0m\u001b[0;36m0\u001b[0m\u001b[0;34m,\u001b[0m \u001b[0;36m0\u001b[0m\u001b[0;34m]\u001b[0m\u001b[0;34m,\u001b[0m \u001b[0;34m[\u001b[0m\u001b[0;36m0\u001b[0m\u001b[0;34m,\u001b[0m \u001b[0;36m0\u001b[0m\u001b[0;34m]\u001b[0m\u001b[0;34m]\u001b[0m\u001b[0;34m)\u001b[0m\u001b[0;34m\u001b[0m\u001b[0m\n\u001b[0m\u001b[1;32m      4\u001b[0m \u001b[0;32massert\u001b[0m\u001b[0;34m(\u001b[0m\u001b[0manade_fila\u001b[0m\u001b[0;34m(\u001b[0m\u001b[0mn\u001b[0m\u001b[0;34m)\u001b[0m \u001b[0;34m==\u001b[0m \u001b[0;34m[\u001b[0m\u001b[0;34m[\u001b[0m\u001b[0;36m3\u001b[0m\u001b[0;34m,\u001b[0m \u001b[0;36m2\u001b[0m\u001b[0;34m,\u001b[0m \u001b[0;36m5\u001b[0m\u001b[0;34m]\u001b[0m\u001b[0;34m,\u001b[0m \u001b[0;34m[\u001b[0m\u001b[0;36m1\u001b[0m\u001b[0;34m,\u001b[0m \u001b[0;36m4\u001b[0m\u001b[0;34m,\u001b[0m \u001b[0;36m7\u001b[0m\u001b[0;34m]\u001b[0m\u001b[0;34m,\u001b[0m \u001b[0;34m[\u001b[0m\u001b[0;36m0\u001b[0m\u001b[0;34m,\u001b[0m \u001b[0;36m0\u001b[0m\u001b[0;34m,\u001b[0m \u001b[0;36m0\u001b[0m\u001b[0;34m]\u001b[0m\u001b[0;34m]\u001b[0m\u001b[0;34m)\u001b[0m\u001b[0;34m\u001b[0m\u001b[0m\n\u001b[1;32m      5\u001b[0m \u001b[0;32massert\u001b[0m\u001b[0;34m(\u001b[0m\u001b[0mm\u001b[0m \u001b[0;34m==\u001b[0m \u001b[0;34m[\u001b[0m\u001b[0;34m[\u001b[0m\u001b[0;36m0\u001b[0m\u001b[0;34m,\u001b[0m \u001b[0;36m0\u001b[0m\u001b[0;34m]\u001b[0m\u001b[0;34m,\u001b[0m \u001b[0;34m[\u001b[0m\u001b[0;36m0\u001b[0m\u001b[0;34m,\u001b[0m \u001b[0;36m0\u001b[0m\u001b[0;34m]\u001b[0m\u001b[0;34m]\u001b[0m\u001b[0;34m)\u001b[0m\u001b[0;34m\u001b[0m\u001b[0m\n",
      "\u001b[0;32m<ipython-input-1-24c7e46afcba>\u001b[0m in \u001b[0;36manade_fila\u001b[0;34m(matriz)\u001b[0m\n\u001b[1;32m      3\u001b[0m \u001b[0;32mdef\u001b[0m \u001b[0manade_fila\u001b[0m\u001b[0;34m(\u001b[0m\u001b[0mmatriz\u001b[0m\u001b[0;34m)\u001b[0m\u001b[0;34m:\u001b[0m\u001b[0;34m\u001b[0m\u001b[0m\n\u001b[1;32m      4\u001b[0m     \u001b[0;31m# ESCRIBE AQUI TU CODIGO\u001b[0m\u001b[0;34m\u001b[0m\u001b[0;34m\u001b[0m\u001b[0m\n\u001b[0;32m----> 5\u001b[0;31m     \u001b[0;32mraise\u001b[0m \u001b[0mNotImplementedError\u001b[0m\u001b[0;34m(\u001b[0m\u001b[0;34m)\u001b[0m\u001b[0;34m\u001b[0m\u001b[0m\n\u001b[0m\u001b[1;32m      6\u001b[0m \u001b[0;34m\u001b[0m\u001b[0m\n\u001b[1;32m      7\u001b[0m \u001b[0;32mdef\u001b[0m \u001b[0manade_columna\u001b[0m\u001b[0;34m(\u001b[0m\u001b[0mmatriz\u001b[0m\u001b[0;34m)\u001b[0m\u001b[0;34m:\u001b[0m\u001b[0;34m\u001b[0m\u001b[0m\n",
      "\u001b[0;31mNotImplementedError\u001b[0m: "
     ]
    }
   ],
   "source": [
    "m = [[0, 0], [0, 0]]\n",
    "n = [[3, 2, 5], [1, 4, 7]]\n",
    "assert(anade_fila(m) == [[0, 0], [0, 0], [0, 0]])\n",
    "assert(anade_fila(n) == [[3, 2, 5], [1, 4, 7], [0, 0, 0]])\n",
    "assert(m == [[0, 0], [0, 0]])\n",
    "assert(n == [[3, 2, 5], [1, 4, 7]])\n",
    "\n",
    "o = [[3, 2], [5, 1], [4, 7]]\n",
    "assert(anade_columna(m) == [[0, 0, 0], [0, 0, 0]])\n",
    "assert(anade_columna(o) == [[3, 2, 0], [5, 1, 0], [4, 7, 0]])\n",
    "\n",
    "assert(m == [[0, 0], [0, 0]])\n",
    "assert(o == [[3, 2], [5, 1], [4, 7]])"
   ]
  },
  {
   "cell_type": "markdown",
   "metadata": {
    "deletable": false,
    "editable": false,
    "nbgrader": {
     "checksum": "f300eafefa699ef75e7033cbe4b25dc6",
     "grade": false,
     "grade_id": "cell-988a3abfb27b0ba5",
     "locked": true,
     "schema_version": 1,
     "solution": false
    }
   },
   "source": [
    "# Ejercicio 2:\n",
    "Escribe una función python que actúe como el método update() explicado en clase, pero que en vez de sobreescribir valores para claves repetidas los combine en una lista."
   ]
  },
  {
   "cell_type": "code",
   "execution_count": null,
   "metadata": {
    "deletable": false,
    "nbgrader": {
     "checksum": "30a71c84fae3bc80de425998c2fd5952",
     "grade": false,
     "grade_id": "cell-971c92f6e667e316",
     "locked": false,
     "schema_version": 1,
     "solution": true
    }
   },
   "outputs": [],
   "source": [
    "def une(diccionario_1, diccionario_2):\n",
    "    # ESCRIBE AQUI TU CODIGO\n",
    "    raise NotImplementedError()"
   ]
  },
  {
   "cell_type": "code",
   "execution_count": null,
   "metadata": {
    "deletable": false,
    "editable": false,
    "nbgrader": {
     "checksum": "6f37d0de77de78684add39ef200081b9",
     "grade": true,
     "grade_id": "cell-82e29fdbb35527de",
     "locked": true,
     "points": 5,
     "schema_version": 1,
     "solution": false
    }
   },
   "outputs": [],
   "source": [
    "cursos = { \"curso1\":{\"titulo\":\"Introducción a Python\", \n",
    "                         \"localidad\":\"Madrid\", \n",
    "                         \"instructor\":\"Dr. Acula\"},\n",
    "              \"curso2\":{\"titulo\":\"Python Avanzado\",\n",
    "                         \"localidad\":\"Salamanca\",\n",
    "                         \"instructor\":\"Abel Benito\"},\n",
    "              \"curso3\":{\"titulo\":\"Procesamiento de Textos\",\n",
    "                         \"localidad\":\"Zamora\",\n",
    "                         \"instructor\":\"Armando Guerra\"}\n",
    "              }\n",
    "\n",
    "cursos_2 = { \"curso4\":{\"titulo\":\"Introducción a Python\", \n",
    "                         \"localidad\":\"Madrid\", \n",
    "                         \"instructor\":\"Dr. Acula\"},\n",
    "              \"curso1\":{\"titulo\":\"Python Avanzado\",\n",
    "                         \"localidad\":\"Salamanca\",\n",
    "                         \"instructor\":\"Abel Benito\"}\n",
    "              }\n",
    "\n",
    "cursos_union = { \"curso1\":[{\"titulo\":\"Introducción a Python\", \n",
    "                         \"localidad\":\"Madrid\", \n",
    "                         \"instructor\":\"Dr. Acula\"},\n",
    "                           {\"titulo\":\"Python Avanzado\",\n",
    "                         \"localidad\":\"Salamanca\",\n",
    "                         \"instructor\":\"Abel Benito\"}],\n",
    "              \"curso2\":{\"titulo\":\"Python Avanzado\",\n",
    "                         \"localidad\":\"Salamanca\",\n",
    "                         \"instructor\":\"Abel Benito\"},\n",
    "              \"curso3\":{\"titulo\":\"Procesamiento de Textos\",\n",
    "                         \"localidad\":\"Zamora\",\n",
    "                         \"instructor\":\"Armando Guerra\"},\n",
    "                \"curso4\":{\"titulo\":\"Introducción a Python\", \n",
    "                         \"localidad\":\"Madrid\", \n",
    "                         \"instructor\":\"Dr. Acula\"}\n",
    "              }\n",
    "\n",
    "assert(une(cursos, cursos_2) == cursos_union)"
   ]
  }
 ],
 "metadata": {
  "kernelspec": {
   "display_name": "Python 3",
   "language": "python",
   "name": "python3"
  },
  "language_info": {
   "codemirror_mode": {
    "name": "ipython",
    "version": 3
   },
   "file_extension": ".py",
   "mimetype": "text/x-python",
   "name": "python",
   "nbconvert_exporter": "python",
   "pygments_lexer": "ipython3",
   "version": "3.5.3"
  }
 },
 "nbformat": 4,
 "nbformat_minor": 1
}
