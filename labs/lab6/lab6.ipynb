{
 "cells": [
  {
   "cell_type": "markdown",
   "metadata": {},
   "source": [
    "# Lab 6: Conjuntos y conjuntos congelados ❄️ \n",
    "La teoría de conjuntos es una rama de la lógica matemática que estudia las colecciones de objetos y es parte integral de las matemáticas modernas. \n",
    "En lo que nos atañe, los miembros de los conjuntos pueden ser cualquier cosa, por ejemplo: números, caracteres, palabras, nombres, letras, listas e incluso otros conjuntos. \n",
    "\n",
    "![imagen de conjuntos](img/conjuntos.png)\n",
    "\n",
    "Los representantes de los conjuntos en Python son las colecciones **set** (conjunto) y **frozenset** (conjunto congelado). Los conjuntos son colecciones **desordenadas** de elementos **únicos** (no puede haber dos elementos iguales), así que a diferencia de las listas, no podrán contener múltiples ocurrencias del mismo elemento (por ejemplo la misma cadena).\n",
    "\n",
    "## 6.1. Conjuntos\n",
    "Para crear un conjunto en Python, vamos a usar la función built-in **set()** o las llaves {}, a la que le pasaremos como argumento una secuencia:"
   ]
  },
  {
   "cell_type": "code",
   "execution_count": 1,
   "metadata": {},
   "outputs": [
    {
     "name": "stdout",
     "output_type": "stream",
     "text": [
      "{'n', 'm', 'e', 'l', 's', 't', 'o', 'E', ' '}\n",
      "{'Azul', 'Negro', 'Blanco'}\n"
     ]
    }
   ],
   "source": [
    "#Para crear un conjunto podemos usar una cadena:\n",
    "x = set(\"Esto son los elementos\")\n",
    "print(x)\n",
    "\n",
    "#O bien una lista\n",
    "y = set([\"Azul\", \"Negro\", \"Blanco\"])\n",
    "print(y)"
   ]
  },
  {
   "cell_type": "markdown",
   "metadata": {},
   "source": [
    "Fíjate lo que ha pasado en el conjunto x: Los elementos se han desordenado y por ejemplo la letra \"o\" sólo aparece una vez, aunque en la frase original había más de una. Esto es porque la comparación 'o' == 'o' devuelve True, o lo que es lo mismo, los objetos son iguales.\n",
    "Siguiendo la misma lógica, ¿qué pasaría con las tuplas?"
   ]
  },
  {
   "cell_type": "code",
   "execution_count": 8,
   "metadata": {},
   "outputs": [
    {
     "name": "stdout",
     "output_type": "stream",
     "text": [
      "{'Gijón', 'Zamora', 'Salamanca', 'Cáceres', 'Bilbao', 'Barcelona'}\n"
     ]
    }
   ],
   "source": [
    "ciudades = set((\"Salamanca\", \"Bilbao\", \"Barcelona\", \"Cáceres\", \"Zamora\", \"Gijón\", \"Salamanca\"))\n",
    "print(ciudades)\n",
    "ciudades_bis = {\"Salamanca\", \"Bilbao\", \"Coruña\"}"
   ]
  },
  {
   "cell_type": "code",
   "execution_count": null,
   "metadata": {
    "collapsed": true
   },
   "outputs": [],
   "source": [
    "Como era de esperar, la segunda aparición de Salamanca también es rechazada."
   ]
  },
  {
   "cell_type": "markdown",
   "metadata": {},
   "source": [
    "## 6.2. Conjuntos inmutables\n",
    "Los conjuntos por defecto no permiten incluir objectos mutables como elementos debido al hecho de que serían muy costosos de mantener en memoria. Si algo puede mutar en cualquier momento, todo el conjunto debería ser reevaluado para comprobar que es consistente. En el caso de listas, y por las razones que vimos en sesiones anteriores, esto sería especialmente complicado.\n",
    "\n",
    "Esta es la razón por la que no se pueden incluir listas como elementos:"
   ]
  },
  {
   "cell_type": "code",
   "execution_count": 3,
   "metadata": {},
   "outputs": [
    {
     "ename": "TypeError",
     "evalue": "unhashable type: 'list'",
     "output_type": "error",
     "traceback": [
      "\u001b[0;31m---------------------------------------------------------------------------\u001b[0m",
      "\u001b[0;31mTypeError\u001b[0m                                 Traceback (most recent call last)",
      "\u001b[0;32m<ipython-input-3-c4cdcc4dde0a>\u001b[0m in \u001b[0;36m<module>\u001b[0;34m()\u001b[0m\n\u001b[1;32m      1\u001b[0m \u001b[0mciudades_2\u001b[0m \u001b[0;34m=\u001b[0m \u001b[0mset\u001b[0m\u001b[0;34m(\u001b[0m\u001b[0;34m(\u001b[0m\u001b[0;34m(\u001b[0m\u001b[0;34m\"Salamanca\"\u001b[0m\u001b[0;34m,\u001b[0m \u001b[0;34m\"Bilbao\"\u001b[0m\u001b[0;34m)\u001b[0m\u001b[0;34m,\u001b[0m \u001b[0;34m(\u001b[0m\u001b[0;34m\"Barcelona\"\u001b[0m\u001b[0;34m,\u001b[0m \u001b[0;34m\"Madrid\"\u001b[0m\u001b[0;34m,\u001b[0m \u001b[0;34m\"Zamora\"\u001b[0m\u001b[0;34m)\u001b[0m\u001b[0;34m)\u001b[0m\u001b[0;34m)\u001b[0m\u001b[0;34m\u001b[0m\u001b[0m\n\u001b[0;32m----> 2\u001b[0;31m \u001b[0mciudades_2\u001b[0m \u001b[0;34m=\u001b[0m \u001b[0mset\u001b[0m\u001b[0;34m(\u001b[0m\u001b[0;34m(\u001b[0m\u001b[0;34m[\u001b[0m\u001b[0;34m\"Salamanca\"\u001b[0m\u001b[0;34m,\u001b[0m \u001b[0;34m\"Bilbao\"\u001b[0m\u001b[0;34m]\u001b[0m\u001b[0;34m,\u001b[0m \u001b[0;34m[\u001b[0m\u001b[0;34m\"Barcelona\"\u001b[0m\u001b[0;34m,\u001b[0m \u001b[0;34m\"Madrid\"\u001b[0m\u001b[0;34m,\u001b[0m \u001b[0;34m\"Zamora\"\u001b[0m\u001b[0;34m]\u001b[0m\u001b[0;34m)\u001b[0m\u001b[0;34m)\u001b[0m\u001b[0;34m\u001b[0m\u001b[0m\n\u001b[0m",
      "\u001b[0;31mTypeError\u001b[0m: unhashable type: 'list'"
     ]
    }
   ],
   "source": [
    "ciudades_2 = set(((\"Salamanca\", \"Bilbao\"), (\"Barcelona\", \"Madrid\", \"Zamora\")))\n",
    "ciudades_3 = set(([\"Salamanca\", \"Bilbao\"], [\"Barcelona\", \"Madrid\", \"Zamora\"])) #OPPPS!\n"
   ]
  },
  {
   "cell_type": "markdown",
   "metadata": {},
   "source": [
    "## 6.3 Conjuntos congelados\n",
    "A estos tipo de conjuntos se les llama congelados para hacer hincapié en el hecho de que además de ser inmutables sus elementos, son inmutables ellos mismos (un tema de nomenclatura):"
   ]
  },
  {
   "cell_type": "code",
   "execution_count": 9,
   "metadata": {
    "collapsed": true
   },
   "outputs": [],
   "source": [
    "ciudades_4 = frozenset([\"Salamanca\", \"Bilbao\", \"Barcelona\", \"Madrid\", \"Zamora\"]) #AHORA SI. "
   ]
  },
  {
   "cell_type": "code",
   "execution_count": 10,
   "metadata": {},
   "outputs": [
    {
     "ename": "AttributeError",
     "evalue": "'frozenset' object has no attribute 'add'",
     "output_type": "error",
     "traceback": [
      "\u001b[0;31m---------------------------------------------------------------------------\u001b[0m",
      "\u001b[0;31mAttributeError\u001b[0m                            Traceback (most recent call last)",
      "\u001b[0;32m<ipython-input-10-6da2c905e265>\u001b[0m in \u001b[0;36m<module>\u001b[0;34m()\u001b[0m\n\u001b[1;32m      1\u001b[0m \u001b[0;31m#Pero si ahora intento añadir un nuevo elemento:\u001b[0m\u001b[0;34m\u001b[0m\u001b[0;34m\u001b[0m\u001b[0m\n\u001b[0;32m----> 2\u001b[0;31m \u001b[0mciudades_4\u001b[0m\u001b[0;34m.\u001b[0m\u001b[0madd\u001b[0m\u001b[0;34m(\u001b[0m\u001b[0;34m\"Burgos\"\u001b[0m\u001b[0;34m)\u001b[0m\u001b[0;34m\u001b[0m\u001b[0m\n\u001b[0m",
      "\u001b[0;31mAttributeError\u001b[0m: 'frozenset' object has no attribute 'add'"
     ]
    }
   ],
   "source": [
    "#Pero si ahora intento añadir un nuevo elemento:\n",
    "ciudades_4.add(\"Burgos\") #Auch!"
   ]
  },
  {
   "cell_type": "markdown",
   "metadata": {},
   "source": [
    "## 6.4 Operaciones\n",
    "Como es de esperar, los conjuntos, como el resto de colecciones que hemos visto a lo largo del curso, también soportan operaciones que detallamos a continuación:"
   ]
  },
  {
   "cell_type": "markdown",
   "metadata": {},
   "source": [
    "## Añadir, quitar, modificar"
   ]
  },
  {
   "cell_type": "code",
   "execution_count": 13,
   "metadata": {},
   "outputs": [
    {
     "name": "stdout",
     "output_type": "stream",
     "text": [
      "{'rojo', 'azul', 'amarillo', 'verde'}\n",
      "set()\n"
     ]
    }
   ],
   "source": [
    "### 6.4.1 add(elemento)\n",
    "## Un método que añade un elemento, que tiene que ser inmutable, a un conjunto.\n",
    "colores = {\"rojo\", \"amarillo\", \"azul\"}\n",
    "colores.add(\"verde\")\n",
    "colores.add(\"rojo\")\n",
    "print(colores)"
   ]
  },
  {
   "cell_type": "code",
   "execution_count": null,
   "metadata": {
    "collapsed": true
   },
   "outputs": [],
   "source": [
    "### 6.4.2 clear()\n",
    "## Elimina todos los elementos del conjunto\n",
    "ciudades_5 = {\"Salamanca\", \"Zamora\", \"León\", \"Palencia\"}\n",
    "ciudades_5.clear()\n",
    "print(ciudades_5)"
   ]
  },
  {
   "cell_type": "code",
   "execution_count": null,
   "metadata": {
    "collapsed": true
   },
   "outputs": [],
   "source": [
    "### 6.4.3 clear()\n",
    "## Elimina todos los elementos del conjunto\n",
    "ciudades_5 = {\"Salamanca\", \"Zamora\", \"León\", \"Palencia\"}\n",
    "ciudades_5.clear()\n",
    "print(ciudades_5)"
   ]
  },
  {
   "cell_type": "code",
   "execution_count": 15,
   "metadata": {},
   "outputs": [
    {
     "name": "stdout",
     "output_type": "stream",
     "text": [
      "{'Teruel', 'Albacete', 'Valladolid'}\n",
      "set()\n"
     ]
    }
   ],
   "source": [
    "### 6.4.4 copy()\n",
    "## Crea una copia superficial del conjunto.\n",
    "ciudades_6 = {\"Valladolid\", \"Teruel\", \"Albacete\"}\n",
    "ciudades_6_copia = ciudades_6.copy()\n",
    "ciudades_6_copia_bis = ciudades_6\n",
    "ciudades_6.clear()\n",
    "\n",
    "##Qué pasa aqui??\n",
    "print(ciudades_6_copia)\n",
    "print(ciudades_6_copia_bis)"
   ]
  },
  {
   "cell_type": "code",
   "execution_count": 19,
   "metadata": {},
   "outputs": [
    {
     "name": "stdout",
     "output_type": "stream",
     "text": [
      "{'a', 'd', 'e'}\n",
      "set()\n",
      "{'a', 'e', 'b'}\n"
     ]
    }
   ],
   "source": [
    "### 6.4.4 difference()\n",
    "## Devuelve la diferencia entre dos o mas conjuntos en un nuevo conjunto\n",
    "x = {\"a\", \"b\", \"c\", \"d\", \"e\"}\n",
    "y = {\"b\", \"c\"}\n",
    "z = {\"c\", \"d\"}\n",
    "\n",
    "print(x.difference(y))\n",
    "print(y.difference(x))\n",
    "\n",
    "## O simplemente usando el operador -\n",
    "print(x - z)"
   ]
  },
  {
   "cell_type": "code",
   "execution_count": 24,
   "metadata": {},
   "outputs": [
    {
     "name": "stdout",
     "output_type": "stream",
     "text": [
      "{'a', 'e', 'd'}\n"
     ]
    }
   ],
   "source": [
    "### 6.4.4 difference_update()\n",
    "## Igual que difference(), salvo que al conjunto que \n",
    "## ejecuta este método se le sustraen los elementos de un segundo conjunto, quedando así modificado\n",
    "## Se puede interpretar como x = x - y \n",
    "x = {\"a\", \"b\", \"c\", \"d\", \"e\"}\n",
    "y = {\"b\", \"c\"}\n",
    "\n",
    "x.difference_update(y)\n",
    "print(x)\n"
   ]
  },
  {
   "cell_type": "code",
   "execution_count": 31,
   "metadata": {},
   "outputs": [
    {
     "name": "stdout",
     "output_type": "stream",
     "text": [
      "{'e', 'c', 'd', 'b'}\n"
     ]
    }
   ],
   "source": [
    "### 6.4.4 remove() y discard()\n",
    "## Para eliminar objetos de un conjunto usaremos estas dos funciones.\n",
    "## La diferencia entre ambos es que remove() lanza una excepción si el elemento dado no existe en el conjunto!\n",
    "x = {\"a\",\"b\",\"c\",\"d\",\"e\"}\n",
    "x.remove(\"a\")\n",
    "print(x)"
   ]
  },
  {
   "cell_type": "code",
   "execution_count": 33,
   "metadata": {},
   "outputs": [
    {
     "ename": "KeyError",
     "evalue": "'a'",
     "output_type": "error",
     "traceback": [
      "\u001b[0;31m---------------------------------------------------------------------------\u001b[0m",
      "\u001b[0;31mKeyError\u001b[0m                                  Traceback (most recent call last)",
      "\u001b[0;32m<ipython-input-33-25cdecc91dc7>\u001b[0m in \u001b[0;36m<module>\u001b[0;34m()\u001b[0m\n\u001b[0;32m----> 1\u001b[0;31m \u001b[0mx\u001b[0m\u001b[0;34m.\u001b[0m\u001b[0mremove\u001b[0m\u001b[0;34m(\u001b[0m\u001b[0;34m\"a\"\u001b[0m\u001b[0;34m)\u001b[0m\u001b[0;34m\u001b[0m\u001b[0m\n\u001b[0m",
      "\u001b[0;31mKeyError\u001b[0m: 'a'"
     ]
    }
   ],
   "source": [
    "x.remove(\"a\")"
   ]
  },
  {
   "cell_type": "code",
   "execution_count": 34,
   "metadata": {
    "collapsed": true
   },
   "outputs": [],
   "source": [
    "x.discard(\"a\")"
   ]
  },
  {
   "cell_type": "markdown",
   "metadata": {},
   "source": [
    "## Operaciones con conjuntos"
   ]
  },
  {
   "cell_type": "code",
   "execution_count": 37,
   "metadata": {},
   "outputs": [
    {
     "name": "stdout",
     "output_type": "stream",
     "text": [
      "{'f', 'a', 'e', 'c', 'd', 'b', 'g'}\n",
      "{'f', 'a', 'e', 'c', 'd', 'b', 'g'}\n",
      "{'d', 'e', 'c'}\n",
      "{'d', 'e', 'c'}\n"
     ]
    }
   ],
   "source": [
    "### 6.4.5 union() e intersection()\n",
    "## Devuelven la unión y la intersección de dos conjuntos.\n",
    "x = {\"a\",\"b\",\"c\",\"d\",\"e\"}\n",
    "y = {\"c\",\"d\",\"e\",\"f\",\"g\"}\n",
    "print(x.union(y))\n",
    "#o tambien\n",
    "print(x | y)\n",
    "\n",
    "print(x.intersection(y))\n",
    "#o tambien\n",
    "print(x & y)"
   ]
  },
  {
   "cell_type": "code",
   "execution_count": 47,
   "metadata": {},
   "outputs": [
    {
     "name": "stdout",
     "output_type": "stream",
     "text": [
      "x e y son disjuntos? True\n",
      "z es un subconjunto de x? True\n",
      "x es un subconjunto de si mismo? True\n",
      "x es un superconjunto de si mismo? True\n",
      "x es un subconjunto propio de si mismo? False\n",
      "y es un superconjunto propio de si mismo? False\n"
     ]
    }
   ],
   "source": [
    "### 6.4.5 isdisjoint(), issubset(), issuperset()\n",
    "## Devuelven True o False dependiendo de si el conjunto que el conjunto sobre el que se invoca el método es\n",
    "## disjunto con el conjunto que se pasa como parámetro o es subconjunto o superconjunto del mismo, respectivamente.\n",
    "x = {\"a\",\"b\",\"c\",\"d\",\"e\"}\n",
    "y = {\"f\", \"g\"}\n",
    "z = {\"a\", \"b\"}\n",
    "print('x e y son disjuntos? ' + str(x.isdisjoint(y)))\n",
    "print('z es un subconjunto de x? ' + str(z.issubset(x)))\n",
    "print('x es un subconjunto de si mismo? ' + str(x.issubset(x)))\n",
    "print('x es un superconjunto de si mismo? ' + str(x.issubset(x)))\n",
    "\n",
    "##Los subconjuntos propios son aquellos subconjuntos de un conjunto dado que no son el conjunto mismo!\n",
    "##Para expresar esto en python usaremos los símbolos mayor (>) y menor (<) estrictos.\n",
    "##Mayor o igual (>=) o menor o igual (<=) son equivalentes a issuperset y issubset respectivamente.\n",
    "\n",
    "print('x es un subconjunto propio de si mismo? ' + str((x < x)))\n",
    "print('y es un superconjunto propio de si mismo? ' + str(x > x))\n",
    "\n"
   ]
  },
  {
   "cell_type": "code",
   "execution_count": 48,
   "metadata": {},
   "outputs": [
    {
     "name": "stdout",
     "output_type": "stream",
     "text": [
      "{'e', 'c', 'd', 'b'}\n",
      "a\n",
      "{'c', 'd', 'b'}\n",
      "e\n"
     ]
    }
   ],
   "source": [
    "### 6.4.5 isdisjoint(), issubset(), issuperset()\n",
    "## Finalmente, para sacar un elemento arbitrario del conjunto, usaremos el tipico pop que ya conocemos.\n",
    "x = {\"a\",\"b\",\"c\",\"d\",\"e\"}\n",
    "el = x.pop()\n",
    "print(x)\n",
    "print(el)\n",
    "el_2 = x.pop()\n",
    "print(x)\n",
    "print(el_2)"
   ]
  }
 ],
 "metadata": {
  "kernelspec": {
   "display_name": "Python 3",
   "language": "python",
   "name": "python3"
  },
  "language_info": {
   "codemirror_mode": {
    "name": "ipython",
    "version": 3
   },
   "file_extension": ".py",
   "mimetype": "text/x-python",
   "name": "python",
   "nbconvert_exporter": "python",
   "pygments_lexer": "ipython3",
   "version": "3.6.3"
  }
 },
 "nbformat": 4,
 "nbformat_minor": 2
}
