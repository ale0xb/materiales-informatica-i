{
 "cells": [
  {
   "cell_type": "markdown",
   "metadata": {},
   "source": [
    "# Lab 5: Copias superficiales y profundas. Diccionarios. \n",
    "\n",
    "## 1. Copias superficiales y profundas\n",
    "En los lab anteriores hemos visto cómo crear, acceder y modificar listas en memoria. Otra operación muy común a realizar es la de copia. Hasta ahora has visto como copiar tipos básicos así:"
   ]
  },
  {
   "cell_type": "code",
   "execution_count": 1,
   "metadata": {},
   "outputs": [
    {
     "name": "stdout",
     "output_type": "stream",
     "text": [
      "valor_1 vale 25 y está guardado en 4448305264\n",
      "valor_2 vale 25 y está guardado en 4448305264\n",
      "Ahora valor_2 vale 4 y está guardado en 4448304592\n"
     ]
    }
   ],
   "source": [
    "#Inicializo la variable valor_1 a 25\n",
    "valor_1 = 25\n",
    "#Ahora COPIO el valor de valor_1 a valor_2, pero como ya vimos en su día en realidad lo que ocurre es que la variable valor_2 pasa a apuntar en memoria a la misma zona que valor_1. Esto lo podemos comprobar mediante el uso de la función built-in id:\n",
    "valor_2 = valor_1\n",
    "print('valor_1 vale ' + str(valor_1) + ' y está guardado en ' + str(id(valor_1)))\n",
    "print('valor_2 vale ' + str(valor_2) + ' y está guardado en ' + str(id(valor_2)))\n",
    "#Si reasigno valor_2, ahora apuntará a una nueva zona de memoria:\n",
    "valor_2 = 4\n",
    "print('Ahora valor_2 vale ' + str(valor_2) + ' y está guardado en ' + str(id(valor_2)))"
   ]
  },
  {
   "cell_type": "markdown",
   "metadata": {},
   "source": [
    "Vemos que lo que ocurre es que el valor no se copia realmente, sino que las variables apuntan a uno u otro sitio dependiendo de su contenido. Mientras que este comportamiento, específico de Python, es muy conveniente en multitud de ocasiones, puede conducir a problemas cuando lo que copiamos son elementos mutables compuestos por otros elementos (como por ejemplo las listas).\n",
    "\n",
    "Resulta que Python sólo va a realizar copias \"reales\" cuando sea necesario, por ejemplo cuando el programador se lo indique explícitamente. Vamos a ver porqué. Este es el mismo ejemplo de copia usando listas:"
   ]
  },
  {
   "cell_type": "code",
   "execution_count": 2,
   "metadata": {},
   "outputs": [
    {
     "name": "stdout",
     "output_type": "stream",
     "text": [
      "['red', 'blue']\n",
      "['red', 'blue']\n",
      "4484231112 4484231112\n",
      "['red', 'blue']\n",
      "['rouge', 'vert']\n",
      "4484231112 4484591048\n"
     ]
    }
   ],
   "source": [
    "colours1 = [\"red\", \"blue\"]\n",
    "colours2 = colours1\n",
    "print(colours1)\n",
    "['red', 'blue']\n",
    "print(colours2)\n",
    "['red', 'blue']\n",
    "print(id(colours1),id(colours2))\n",
    "\n",
    "colours2 = [\"rouge\", \"vert\"]\n",
    "print(colours1)\n",
    "['red', 'blue']\n",
    "print(colours2)\n",
    "\n",
    "print(id(colours1),id(colours2))\n"
   ]
  },
  {
   "cell_type": "markdown",
   "metadata": {},
   "source": [
    "![copia-1](img/deep_copy_detailed1.png)\n",
    "En el ejemplo una lista cualquiera es asignada a colours_1. Esta lista es una lista que llamaremos \"superficial\" o \"plana\" ya que no contiene otras listas anidadas. En el siguiente paso se asigna colours1 a colours2. Mediante el uso de la función **id** vemos que ambas variables apuntan a la misma zona de memoria, o en otras palabras, comparten el objeto lista formado por \"red\" y \"blue\".\n",
    "\n",
    "Si asignamos una nueva lista a colours2, los valores en colours1 permanecen inalterados, como era de esperar. Lo que ocurre es que una nueva posición de memoria pasa a ser ocupada por la lista formada por \"rouge\" y \"vert\", ya que hemos creado una lista completamente nueva, y la variable colours_2 ahora apunta a dicha posición. \n",
    "\n",
    "Ahora vamos a ver qué ocurre si cambiamos un sólo elemento de alguna de las listas:"
   ]
  },
  {
   "cell_type": "code",
   "execution_count": 3,
   "metadata": {},
   "outputs": [
    {
     "name": "stdout",
     "output_type": "stream",
     "text": [
      "4484611016 4484611016\n",
      "4484611016 4484611016\n",
      "['red', 'green']\n",
      "['red', 'green']\n"
     ]
    }
   ],
   "source": [
    "colours1 = [\"red\", \"blue\"]\n",
    "colours2 = colours1\n",
    "print(id(colours1),id(colours2))\n",
    "colours2[1] = \"green\"\n",
    "print(id(colours1),id(colours2))\n",
    "print(colours1)\n",
    "print(colours2)"
   ]
  },
  {
   "cell_type": "markdown",
   "metadata": {},
   "source": [
    "![copia-2](img/deep_copy_detailed2.png)\n",
    "Ahora lo que pasa es que cuando se asigna un nuevo elemento a la posición 2 de colours2, ¡el valor en colours1 también cambia automáticamente!! ¿Sabes por qué?\n",
    "\n",
    "Lo que pasa es que no se está asignando un valor nuevo a ninguna de las variables, sino que simplemente se modifican posiciones de memorias a las que (resulta que) apuntaban las variables colours1 y colours2."
   ]
  },
  {
   "cell_type": "markdown",
   "metadata": {},
   "source": [
    "### 1.1 Copiando con el operador slice\n",
    "Es posible copiar elementos usando el ya conocido operador slice evitando algunos de los efectos indeseados que acabamos de ver:"
   ]
  },
  {
   "cell_type": "code",
   "execution_count": 4,
   "metadata": {},
   "outputs": [
    {
     "name": "stdout",
     "output_type": "stream",
     "text": [
      "4485374408 4485375816\n",
      "['a', 'x', 'c', 'd']\n",
      "['a', 'b', 'c', 'd']\n"
     ]
    }
   ],
   "source": [
    "list1 = ['a','b','c','d']\n",
    "list2 = list1[:]\n",
    "print(id(list1),id(list2))\n",
    "list2[1] = 'x'\n",
    "print(list2)\n",
    "print(list1)"
   ]
  },
  {
   "cell_type": "markdown",
   "metadata": {},
   "source": [
    "Pero si la lista inicial contiene sublistas, vamos a tener problemas, ya que el operador slice va a copiar la referencia a dichas sublistas:"
   ]
  },
  {
   "cell_type": "code",
   "execution_count": null,
   "metadata": {},
   "outputs": [],
   "source": [
    "lst1 = ['a','b',['ab','ba']]\n",
    "lst2 = lst1[:]\n",
    "print(id(list1),id(list2))\n",
    "print(id(list1[2]),id(list2[2]))"
   ]
  },
  {
   "cell_type": "markdown",
   "metadata": {},
   "source": [
    "La siguiente imagen representa lo que ocurre en el anterior ejemplo. The following diagram depicts the data structure after the copying. Vemos que tanto lst1[2] como lst2[2] apuntan a la misma sublista formada por \"ab\" y \"ba\".\n",
    "![copia-3](img/deep_copy_detailed3.png)\n",
    "\n",
    "Ahora, si asignamos un nuevo valor al elemento 0 o 1 de una de las dos lista, no habrá ningún efecto no deseado:"
   ]
  },
  {
   "cell_type": "code",
   "execution_count": 5,
   "metadata": {},
   "outputs": [
    {
     "name": "stdout",
     "output_type": "stream",
     "text": [
      "['a', 'b', ['ab', 'ba']]\n",
      "['c', 'b', ['ab', 'ba']]\n"
     ]
    }
   ],
   "source": [
    "lst1 = ['a','b',['ab','ba']]\n",
    "lst2 = lst1[:]\n",
    "lst2[0] = 'c'\n",
    "print(lst1)\n",
    "print(lst2)"
   ]
  },
  {
   "cell_type": "markdown",
   "metadata": {},
   "source": [
    "No problem: \n",
    "![copia-4](img/deep_copy_detailed4.png)\n",
    "\n",
    "Pero si ahora cambio un elemento de la sublista la liamos:"
   ]
  },
  {
   "cell_type": "code",
   "execution_count": null,
   "metadata": {},
   "outputs": [],
   "source": [
    "lst2[2][1] = 'd'\n",
    "print(lst1)\n",
    "print(lst2)"
   ]
  },
  {
   "cell_type": "markdown",
   "metadata": {},
   "source": [
    "A pesar de haber modificado la lista lst2, lst1 también recibe dichos cambios!!! 😱😱😱\n",
    "![copia-5](img/deep_copy_detailed5.png)"
   ]
  },
  {
   "cell_type": "markdown",
   "metadata": {},
   "source": [
    "### Copiando usando la función deepcopy\n",
    "Una solución a este problema es usar la función deepcopy del module copy, que realiza una copia profunda (elementos anidados incluidos) de una lista:"
   ]
  },
  {
   "cell_type": "code",
   "execution_count": 6,
   "metadata": {},
   "outputs": [
    {
     "name": "stdout",
     "output_type": "stream",
     "text": [
      "['a', 'b', ['ab', 'ba']]\n",
      "['a', 'b', ['ab', 'ba']]\n",
      "4485375048 4485374984\n",
      "4450408016 4450408016\n",
      "4485204296 4485374920\n"
     ]
    }
   ],
   "source": [
    "from copy import deepcopy\n",
    "\n",
    "lst1 = ['a','b',['ab','ba']]\n",
    "lst2 = deepcopy(lst1)\n",
    "print(lst1)\n",
    "print(lst2)\n",
    "\n",
    "print(id(lst1), id(lst2))\n",
    "print(id(lst1[0]), id(lst2[0]))\n",
    "print(id(lst2[2]), id(lst1[2]))\n",
    "\n"
   ]
  },
  {
   "cell_type": "markdown",
   "metadata": {},
   "source": [
    "Al usar la función **id** vemos que la sublista ha sido copiada, porque id(lst2[2]) es diferente de id(lst1[2]). Es interesante sin embargo que las cadenas no se copian (La copia no sólo es **profunda** sino además **inteligente**), lst1[0] y lst2[0] por un lado y lst1[1] y lst2[1] por otro referencian la misma cadena respectivamente. \n",
    "Esta es la situación después de copiar la lista:\n",
    "![copia-6](img/deep_copy_detailed7.png)\n",
    "\n",
    "Si ahora modificamos la lista anidada:"
   ]
  },
  {
   "cell_type": "code",
   "execution_count": 7,
   "metadata": {},
   "outputs": [
    {
     "name": "stdout",
     "output_type": "stream",
     "text": [
      "['a', 'b', ['ab', 'ba']]\n",
      "['c', 'b', ['ab', 'd']]\n"
     ]
    }
   ],
   "source": [
    "lst2[2][1] = \"d\"\n",
    "lst2[0] = \"c\"\n",
    "print(lst1)\n",
    "print(lst2)"
   ]
  },
  {
   "cell_type": "markdown",
   "metadata": {},
   "source": [
    "La situación pasa a ser la siguiente:\n",
    "![copia-7](img/deep_copy_detailed8.png)"
   ]
  },
  {
   "cell_type": "markdown",
   "metadata": {},
   "source": [
    "## 2. Diccionarios\n",
    "\n",
    "Para finalizar con las abstracciones de datos en Python vamos a ver los **dictionarios**. \n",
    "Conceptualmente, un diccionario es un conjunto desordenado de elementos (a diferencia de las listas, que están ordenadas). Los elementos del diccionario son parejas **clave-valor** y se separan entre ellos mediante comas. Además, los elementos pertenecientes a un mismo diccionario se delimitan mediante el uso de llaves {}. Tanto la clave como el valor han de ser tipos válidos en Python (int, string, etc.), con la salvedad de que en el caso de las claves han de ser tipos **inmutables**.\n",
    "\n",
    "**Ojo! Los diccionarios NO son secuencias y tiene su propio tipo! Por lo tanto no soportan las mismas operaciones**\n",
    "\n",
    "### 2.1 Acceder y modificar valores\n",
    "Los elementos en los diccionarios, a diferencia de las listas, son accedidos mediante su clave y no su posición (ya que no hay orden). Cada elemento especificado por una clave es único en el diccionario (Tan sólo hay un elemento asociado a cada clave). Vamos a verlo con unos ejemplos:"
   ]
  },
  {
   "cell_type": "code",
   "execution_count": 8,
   "metadata": {},
   "outputs": [
    {
     "name": "stdout",
     "output_type": "stream",
     "text": [
      "{}\n",
      "{}\n"
     ]
    }
   ],
   "source": [
    "#Definiendo diccionarios (En este caso diccionarios vacíos. Podemos usar las llaves o la palabra reservada \"dict\")\n",
    "dic_vacio = {} \n",
    "dic_vacio_2 = dict()\n",
    "print(dic_vacio)\n",
    "print(dic_vacio_2)"
   ]
  },
  {
   "cell_type": "code",
   "execution_count": 9,
   "metadata": {},
   "outputs": [
    {
     "name": "stdout",
     "output_type": "stream",
     "text": [
      "{'nombre': 'Maria Gonzalez', 'direccion': 'Rios Rosas 52', 'saldo': 500}\n",
      "{'nombre': 'Pedro Lopez', 'direccion': 'Portugalete 10', 'saldo': 200}\n"
     ]
    }
   ],
   "source": [
    "#Inicializando diccionarios no vacíos\n",
    "cliente_1 = {\"nombre\" : \"Maria Gonzalez\", \"direccion\" : \"Rios Rosas 52\", \"saldo\" : 500}\n",
    "cliente_2 = {\"nombre\" : \"Pedro Lopez\", \"direccion\" : \"Portugalete 10\", \"saldo\" : 200}\n",
    "print(cliente_1)\n",
    "print(cliente_2)"
   ]
  },
  {
   "cell_type": "code",
   "execution_count": 10,
   "metadata": {},
   "outputs": [
    {
     "name": "stdout",
     "output_type": "stream",
     "text": [
      "Maria Gonzalez\n",
      "200\n"
     ]
    }
   ],
   "source": [
    "#Accediendo a los valores de un diccionario (corchetes)\n",
    "print(cliente_1['nombre'])\n",
    "print(cliente_2['saldo'])"
   ]
  },
  {
   "cell_type": "code",
   "execution_count": 11,
   "metadata": {},
   "outputs": [
    {
     "ename": "KeyError",
     "evalue": "1",
     "output_type": "error",
     "traceback": [
      "\u001b[0;31m---------------------------------------------------------------------------\u001b[0m",
      "\u001b[0;31mKeyError\u001b[0m                                  Traceback (most recent call last)",
      "\u001b[0;32m<ipython-input-11-7098ccb3f458>\u001b[0m in \u001b[0;36m<module>\u001b[0;34m()\u001b[0m\n\u001b[1;32m      1\u001b[0m \u001b[0;31m#Ya que no hay orden no puedo hacer cosas como:\u001b[0m\u001b[0;34m\u001b[0m\u001b[0;34m\u001b[0m\u001b[0m\n\u001b[0;32m----> 2\u001b[0;31m \u001b[0mcliente_1\u001b[0m\u001b[0;34m[\u001b[0m\u001b[0;36m1\u001b[0m\u001b[0;34m]\u001b[0m\u001b[0;34m\u001b[0m\u001b[0m\n\u001b[0m",
      "\u001b[0;31mKeyError\u001b[0m: 1"
     ]
    }
   ],
   "source": [
    "#Ya que no hay orden no puedo hacer cosas como:\n",
    "cliente_1[1]"
   ]
  },
  {
   "cell_type": "code",
   "execution_count": 12,
   "metadata": {},
   "outputs": [
    {
     "ename": "KeyError",
     "evalue": "'edad'",
     "output_type": "error",
     "traceback": [
      "\u001b[0;31m---------------------------------------------------------------------------\u001b[0m",
      "\u001b[0;31mKeyError\u001b[0m                                  Traceback (most recent call last)",
      "\u001b[0;32m<ipython-input-12-75558513321f>\u001b[0m in \u001b[0;36m<module>\u001b[0;34m()\u001b[0m\n\u001b[1;32m      1\u001b[0m \u001b[0;31m#También obtendremos error si intentamos acceder al valor de una clave inexistente:\u001b[0m\u001b[0;34m\u001b[0m\u001b[0;34m\u001b[0m\u001b[0m\n\u001b[0;32m----> 2\u001b[0;31m \u001b[0mcliente_1\u001b[0m\u001b[0;34m[\u001b[0m\u001b[0;34m'edad'\u001b[0m\u001b[0;34m]\u001b[0m\u001b[0;34m\u001b[0m\u001b[0m\n\u001b[0m",
      "\u001b[0;31mKeyError\u001b[0m: 'edad'"
     ]
    }
   ],
   "source": [
    "#También obtendremos error si intentamos acceder al valor de una clave inexistente:\n",
    "cliente_1['edad']"
   ]
  },
  {
   "cell_type": "code",
   "execution_count": 13,
   "metadata": {},
   "outputs": [
    {
     "name": "stdout",
     "output_type": "stream",
     "text": [
      "{'nombre': 'Maria Gonzalez', 'direccion': 'Gran Vía 25', 'saldo': 500, 'edad': 25}\n",
      "{'nombre': 'Pedro Lopez', 'direccion': 'Portugalete 10', 'saldo': 200, 'edad': 34}\n"
     ]
    }
   ],
   "source": [
    "#Modificando y actualizando diccionarios previamente declarados\n",
    "#Vamos a usar la notación de corchetes:\n",
    "cliente_1['edad'] = 25\n",
    "cliente_2['edad'] = 34\n",
    "cliente_1['direccion'] = \"Gran Vía 25\"\n",
    "print(cliente_1)\n",
    "print(cliente_2)"
   ]
  },
  {
   "cell_type": "markdown",
   "metadata": {},
   "source": [
    "### 2.2 Eliminar pares\n",
    "Una operación común que haremos sobre los diccionarios es la de eliminar un par clave-valor. Para ello usaremos la palabra reservada **del** o las operación **pop()**, que ya vimos en las listas, aunque ahora se define de manera ligeramente diferente o **popitem()**."
   ]
  },
  {
   "cell_type": "code",
   "execution_count": null,
   "metadata": {
    "collapsed": true
   },
   "outputs": [],
   "source": [
    "#Eliminamos la clave edad y su valor correspondiente\n",
    "del cliente_1['edad']\n",
    "print(cliente_1)"
   ]
  },
  {
   "cell_type": "markdown",
   "metadata": {},
   "source": [
    "#### pop()\n",
    "En el caso de **pop()** (recuerda lo visto en listas), queremos eliminar un elemento del diccionario pero salvándolo a una variable sobre la que podamos operar con él. Recordemos que en las listas la operación **pop()** extraía el último elemento de la lista en cuestión pero entonces ¿Tiene sentido usar pop en un diccionario, cuando sabemos que no tiene orden?\n",
    "\n",
    "La respuesta es que sí, ya que en este caso **pop()** no realiza exactamente lo mismo. Para un diccionario D y una clave k, *D.pop(k)* va a eliminar la clave k devolviendo el valor correspondiente:"
   ]
  },
  {
   "cell_type": "code",
   "execution_count": null,
   "metadata": {
    "collapsed": true
   },
   "outputs": [],
   "source": [
    "v = cliente_2.pop('edad')\n",
    "print(v)\n",
    "print(cliente_2)"
   ]
  },
  {
   "cell_type": "code",
   "execution_count": null,
   "metadata": {
    "collapsed": true
   },
   "outputs": [],
   "source": [
    "#La clave tendrá que existir u obtendremos un error:\n",
    "cliente_2.pop('edad')"
   ]
  },
  {
   "cell_type": "markdown",
   "metadata": {},
   "source": [
    "#### popitem()\n",
    "El caso de **popitem()** es ligeramente diferente: no acepta ningún parámetro y elimina un elemento devolviendo el par clave-valor en forma de **tupla**. Esto es muy conveniente cuando queremos procesar y descartar los elementos de un diccionario uno a uno:"
   ]
  },
  {
   "cell_type": "code",
   "execution_count": 14,
   "metadata": {},
   "outputs": [
    {
     "name": "stdout",
     "output_type": "stream",
     "text": [
      "Zaragoza Aragón\n",
      "Vitoria-Gasteiz País Vasco\n"
     ]
    }
   ],
   "source": [
    "#El orden en el que se devuelven los elementos es arbitrario. \n",
    "#estado, capital es una tupla (Una nueva manera de usar las tuplas es usar una variable para guardar cada elemento de las mismas)\n",
    "capitales = {\"Valladolid\":\"Castilla y Leon\", \"Sevilla\":\"Andalucía\", \"Barcelona\": \"Cataluña\", \"Santiago de Compostela\":\"Galicia\", \"Vitoria-Gasteiz\":\"País Vasco\", \"Zaragoza\":\"Aragón\"}\n",
    "estado, capital = capitales.popitem()\n",
    "otra_tupla = capitales.popitem()\n",
    "print(estado, capital)\n",
    "print(otra_tupla[0], otra_tupla[1])"
   ]
  },
  {
   "cell_type": "markdown",
   "metadata": {},
   "source": [
    "### 2.3 Comprobar si existe una clave\n",
    "Hemos visto que si intentamos acceder a una clave inexistente en el diccionario obtendremos un error. Sin embargo hay una manera de evitar esto, comprobando si un diccionario contiene cierta clave usando los operadores **in** y **not in** que vimos en otros labs."
   ]
  },
  {
   "cell_type": "code",
   "execution_count": null,
   "metadata": {
    "collapsed": true
   },
   "outputs": [],
   "source": [
    "if \"Valladolid\" in capitales:\n",
    "    print('La capital de ' + capitales[\"Valladolid\"] + ' es Valladolid')\n",
    "if \"Toledo\" not in capitales:\n",
    "          print(\"No se de qué comunidad autónoma es capital Toledo 😔\")"
   ]
  },
  {
   "cell_type": "markdown",
   "metadata": {},
   "source": [
    "Otra manera es usar **get()**, que no devuelve un error si no existe la clave, sino que devuelve None (palabra y tipo reservados)."
   ]
  },
  {
   "cell_type": "code",
   "execution_count": 15,
   "metadata": {},
   "outputs": [
    {
     "name": "stdout",
     "output_type": "stream",
     "text": [
      "Castilla y Leon\n",
      "None\n"
     ]
    }
   ],
   "source": [
    "print(capitales.get('Valladolid'))\n",
    "print(capitales.get('Toledo'))"
   ]
  },
  {
   "cell_type": "markdown",
   "metadata": {},
   "source": [
    "### 2.4 Copiando diccionarios\n",
    "Los diccionarios se pueden copiar usando el método **copy()**.\n",
    "¡Cuidado! Se realiza una copia superficial, por lo que las modificaciones a elementos aninados siguen afectando a las copias."
   ]
  },
  {
   "cell_type": "code",
   "execution_count": 23,
   "metadata": {},
   "outputs": [
    {
     "name": "stdout",
     "output_type": "stream",
     "text": [
      "{'curso1': {'titulo': 'Introducción a Python', 'localidad': 'Madrid', 'instructor': 'Dr. Acula'}, 'curso2': {'titulo': 'Javascript Avanzado', 'localidad': 'Salamanca', 'instructor': 'Abel Benito'}, 'curso3': {'titulo': 'Procesamiento de Textos', 'localidad': 'Zamora', 'instructor': 'Armando Guerra'}}\n",
      "{'curso1': {'titulo': 'Introducción a Python', 'localidad': 'Madrid', 'instructor': 'Dr. Acula'}, 'curso2': {'titulo': 'Seminario de Latex para Principiantes', 'localidad': 'Salamanca', 'instructor': 'Yola Prieto'}, 'curso3': {'titulo': 'Procesamiento de Textos', 'localidad': 'Zamora', 'instructor': 'Armando Guerra'}}\n",
      "{'curso1': {'titulo': 'Introducción a Python', 'localidad': 'Madrid', 'instructor': 'Dr. Acula'}, 'curso2': {'titulo': 'Javascript Avanzado', 'localidad': 'Salamanca', 'instructor': 'Abel Benito'}, 'curso3': {'titulo': 'Procesamiento de Textos', 'localidad': 'Zamora', 'instructor': 'Armando Guerra'}}\n"
     ]
    }
   ],
   "source": [
    "cursos = { \"curso1\":{\"titulo\":\"Introducción a Python\", \n",
    "                         \"localidad\":\"Madrid\", \n",
    "                         \"instructor\":\"Dr. Acula\"},\n",
    "              \"curso2\":{\"titulo\":\"Python Avanzado\",\n",
    "                         \"localidad\":\"Salamanca\",\n",
    "                         \"instructor\":\"Abel Benito\"},\n",
    "              \"curso3\":{\"titulo\":\"Procesamiento de Textos\",\n",
    "                         \"localidad\":\"Zamora\",\n",
    "                         \"instructor\":\"Armando Guerra\"}\n",
    "              }\n",
    "\n",
    "cursos_copia = cursos.copy()\n",
    "cursos[\"curso2\"][\"titulo\"] = \"Javascript Avanzado\"\n",
    "print(cursos_copia)\n",
    "\n",
    "##Sin embargo si añadimos un nuevo elemento, funciona como esperamos\n",
    "cursos[\"curso2\"] = {\"titulo\":\"Seminario de Latex para Principiantes\",\n",
    "                         \"localidad\":\"Salamanca\",\n",
    "                         \"instructor\":\"Yola Prieto\"}\n",
    "\n",
    "print(cursos)\n",
    "print(cursos_copia)\n"
   ]
  },
  {
   "cell_type": "markdown",
   "metadata": {},
   "source": [
    "### 2.5 Limpiando\n",
    "Por último, el diccionario puede ser limpiado (no borrado!) con el método **clear()**"
   ]
  },
  {
   "cell_type": "code",
   "execution_count": 19,
   "metadata": {},
   "outputs": [
    {
     "name": "stdout",
     "output_type": "stream",
     "text": [
      "{}\n"
     ]
    }
   ],
   "source": [
    "cursos.clear()\n",
    "print(cursos)"
   ]
  },
  {
   "cell_type": "markdown",
   "metadata": {},
   "source": [
    "### Más operaciones: concatenar e iterar:\n",
    "De manera análoga a como concatenábamos listas, podemos hacer lo mismo con diccionarios usando el método **update(dict)**. Este método une las claves y valores de un diccionario, sobreescribiendo los valores para claves repetidas."
   ]
  },
  {
   "cell_type": "code",
   "execution_count": 24,
   "metadata": {},
   "outputs": [
    {
     "name": "stdout",
     "output_type": "stream",
     "text": [
      "{'curso1': {'titulo': 'Introducción a Python', 'localidad': 'Madrid', 'instructor': 'Dr. Acula'}, 'curso2': {'titulo': 'Seminario de Javascript para Principiantes', 'localidad': 'Valladolid', 'instructor': 'Dolores Fuertes'}, 'curso3': {'titulo': 'Procesamiento de Textos', 'localidad': 'Zamora', 'instructor': 'Armando Guerra'}}\n"
     ]
    }
   ],
   "source": [
    "cursos.update({\"curso2\": {\"titulo\" : \"Seminario de Javascript para Principiantes\",\n",
    "                         \"localidad\":\"Valladolid\",\n",
    "                         \"instructor\":\"Dolores Fuertes\"}})\n",
    "\n",
    "print(cursos)"
   ]
  },
  {
   "cell_type": "markdown",
   "metadata": {},
   "source": [
    "Para iterar utilizaremos el ya conocido operador for ... in y las funciones keys() y values(), que devuelven listas con las claves y valores del diccionario, respectivamente."
   ]
  },
  {
   "cell_type": "code",
   "execution_count": 26,
   "metadata": {},
   "outputs": [
    {
     "name": "stdout",
     "output_type": "stream",
     "text": [
      "curso1\n",
      "curso2\n",
      "curso3\n",
      "#########\n",
      "curso1\n",
      "curso2\n",
      "curso3\n",
      "#########\n",
      "{'titulo': 'Introducción a Python', 'localidad': 'Madrid', 'instructor': 'Dr. Acula'}\n",
      "{'titulo': 'Seminario de Javascript para Principiantes', 'localidad': 'Valladolid', 'instructor': 'Dolores Fuertes'}\n",
      "{'titulo': 'Procesamiento de Textos', 'localidad': 'Zamora', 'instructor': 'Armando Guerra'}\n",
      "#########\n",
      "{'titulo': 'Introducción a Python', 'localidad': 'Madrid', 'instructor': 'Dr. Acula'}\n",
      "{'titulo': 'Seminario de Javascript para Principiantes', 'localidad': 'Valladolid', 'instructor': 'Dolores Fuertes'}\n",
      "{'titulo': 'Procesamiento de Textos', 'localidad': 'Zamora', 'instructor': 'Armando Guerra'}\n",
      "#########\n",
      "curso1\n",
      "{'titulo': 'Introducción a Python', 'localidad': 'Madrid', 'instructor': 'Dr. Acula'}\n",
      "curso2\n",
      "{'titulo': 'Seminario de Javascript para Principiantes', 'localidad': 'Valladolid', 'instructor': 'Dolores Fuertes'}\n",
      "curso3\n",
      "{'titulo': 'Procesamiento de Textos', 'localidad': 'Zamora', 'instructor': 'Armando Guerra'}\n"
     ]
    }
   ],
   "source": [
    "for curso in cursos:\n",
    "    print(curso)\n",
    "\n",
    "print('#########')\n",
    "\n",
    "for clave in cursos.keys():\n",
    "    print(clave)\n",
    "    \n",
    "print('#########')\n",
    "    \n",
    "for value in cursos.values():\n",
    "    print(value)\n",
    "\n",
    "print('#########')\n",
    "\n",
    "#Más lento\n",
    "for clave in cursos.keys():\n",
    "    print(cursos[clave])\n",
    "\n",
    "print('#########')\n",
    "#Tuplas clave-valor\n",
    "for clave, valor in cursos.items():\n",
    "    print(clave)\n",
    "    print(valor)\n"
   ]
  },
  {
   "cell_type": "code",
   "execution_count": null,
   "metadata": {
    "collapsed": true
   },
   "outputs": [],
   "source": []
  }
 ],
 "metadata": {
  "kernelspec": {
   "display_name": "Python 3",
   "language": "python",
   "name": "python3"
  },
  "language_info": {
   "codemirror_mode": {
    "name": "ipython",
    "version": 3
   },
   "file_extension": ".py",
   "mimetype": "text/x-python",
   "name": "python",
   "nbconvert_exporter": "python",
   "pygments_lexer": "ipython3",
   "version": "3.6.3"
  }
 },
 "nbformat": 4,
 "nbformat_minor": 2
}
