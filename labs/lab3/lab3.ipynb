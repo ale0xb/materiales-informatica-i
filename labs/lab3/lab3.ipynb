{
 "cells": [
  {
   "cell_type": "markdown",
   "metadata": {},
   "source": [
    "# Lab 3: Funciones y módulos. Entrada y salida de ficheros\n",
    "## 1. Funciones\n",
    "### 1.1. Definiendo funciones\n",
    "Una función es un bloque de código reutilizable que realiza una tarea específica. \n",
    "Las funciones son útiles porque permiten hacer programas más grandes mejorando la modularidad de los mismos. ¿Recuerdas Divide y vencerás?\n",
    "\n",
    "Como hemos visto Python ofrece funciones built-in o incorporadas para una multitud de tareas, como por ejemplo *print()*, que imprime mensajes por la salida estándar, o *input()*, que recoge una entrada. \n",
    "\n",
    "Además de estas funciones predefinidas, el lenguaje Python te permite especificar tus propias funciones. A estas funciones se les llama *funciones definidas por el usuario* (en contraposición a built-in).\n",
    "\n",
    "Si recuerdas, en el pasado hemos definido las funciones así:"
   ]
  },
  {
   "cell_type": "code",
   "execution_count": 18,
   "metadata": {
    "collapsed": true
   },
   "outputs": [],
   "source": [
    "def dime_hola():     # El nombrado de funciones sigue las mismas normas que el de variables.\n",
    "    print(\"Hola\")    # Los parámetros son opcionales (pero hay que seguir usando paréntesis)\n",
    "    return           # La función puede devolver un valor explícito (si no, devuelve None). "
   ]
  },
  {
   "cell_type": "markdown",
   "metadata": {},
   "source": [
    "### 1.2. Llamando a las funciones\n",
    "Para llamar a una función una vez que ha sido definida, todo lo que hay que hacer es escribir su nombre y el de los argumentos que queramos pasarle:"
   ]
  },
  {
   "cell_type": "code",
   "execution_count": 2,
   "metadata": {},
   "outputs": [
    {
     "name": "stdout",
     "output_type": "stream",
     "text": [
      "Hola\n"
     ]
    }
   ],
   "source": [
    "dime_hola() #La función no admite argumentos, así que no le paso ninguno..."
   ]
  },
  {
   "cell_type": "markdown",
   "metadata": {},
   "source": [
    "Si hago que la función *dime_hola* admita un argumento: "
   ]
  },
  {
   "cell_type": "code",
   "execution_count": 17,
   "metadata": {},
   "outputs": [
    {
     "name": "stdout",
     "output_type": "stream",
     "text": [
      "Hola, amigo\n"
     ]
    }
   ],
   "source": [
    "def dime_hola(nombre):\n",
    "    print(\"Hola,\",nombre)\n",
    "\n",
    "#Ahora puedo llamarla con el argumento que yo quiera\n",
    "dime_hola(\"amigo\")"
   ]
  },
  {
   "cell_type": "markdown",
   "metadata": {},
   "source": [
    "### 1.3. Paso por referencia\n",
    "En Python todo paso de variables (parámetros) a una función es **por referencia**. Esto significa que si se cambia una variable "
   ]
  },
  {
   "cell_type": "code",
   "execution_count": 33,
   "metadata": {},
   "outputs": [
    {
     "name": "stdout",
     "output_type": "stream",
     "text": [
      "La cadena antes de llamar a la función es: Esta es una cadena que va a mutar dentro de la función\n",
      "La cadena dentro de la función antes de cambiarla es: Esta es una cadena que va a mutar dentro de la función\n",
      "La cadena dentro de la función después de cambiarla es: Esta es una cadena que va a mutar dentro de la función[MUTADA]\n",
      "La cadena después de llamar a la función es: Esta es una cadena que va a mutar dentro de la función\n",
      "#######\n",
      "La lista antes de llamar a la función es: [1, 2, 3, 4]\n",
      "La lista dentro de la función antes de cambiarla es: [1, 2, 3, 4]\n",
      "La cadena dentro de la función después de cambiarla es: [1, 2, 3, 4, '5']\n",
      "La cadena después de llamar a la función es: [1, 2, 3, 4, '5']\n"
     ]
    }
   ],
   "source": [
    "##Cadena\n",
    "def cambia_cadena(cadena):\n",
    "    print('La cadena dentro de la función antes de cambiarla es:', cadena)\n",
    "    cadena = cadena + \"[MUTADA]\"\n",
    "    print('La cadena dentro de la función después de cambiarla es:', cadena)\n",
    "    return\n",
    "\n",
    "mi_cadena = \"Esta es una cadena que va a mutar dentro de la función\"\n",
    "print('La cadena antes de llamar a la función es:', mi_cadena)\n",
    "cambia_cadena(mi_cadena)\n",
    "print('La cadena después de llamar a la función es:', mi_cadena)\n",
    "\n",
    "print('#######')\n",
    "\n",
    "def cambia_lista(lista):\n",
    "    print('La lista dentro de la función antes de cambiarla es:', lista)\n",
    "    lista.append('5')\n",
    "    print('La cadena dentro de la función después de cambiarla es:', lista)\n",
    "    return\n",
    "\n",
    "mi_lista = [1,2,3,4]\n",
    "print('La lista antes de llamar a la función es:', mi_lista)\n",
    "cambia_lista(mi_lista)\n",
    "print('La cadena después de llamar a la función es:', mi_lista)"
   ]
  },
  {
   "cell_type": "markdown",
   "metadata": {},
   "source": [
    "### 1.4. Parámetros (o argumentos) obligatorios,  por defecto y claves de argumento\n",
    "Los argumentos obligatorios o requeridos de una función son aquellos que se pasan a la función en el orden en el que están definidos. Si tratamos de invocar la función sin estos argumentos la ejecución fallará. "
   ]
  },
  {
   "cell_type": "code",
   "execution_count": 71,
   "metadata": {},
   "outputs": [
    {
     "ename": "TypeError",
     "evalue": "imprime() missing 3 required positional arguments: 'cadena', 'nombre', and 'despedida'",
     "output_type": "error",
     "traceback": [
      "\u001b[0;31m---------------------------------------------------------------------------\u001b[0m",
      "\u001b[0;31mTypeError\u001b[0m                                 Traceback (most recent call last)",
      "\u001b[0;32m<ipython-input-71-fbe37f59e21b>\u001b[0m in \u001b[0;36m<module>\u001b[0;34m()\u001b[0m\n\u001b[1;32m      2\u001b[0m     \u001b[0mprint\u001b[0m\u001b[0;34m(\u001b[0m\u001b[0;34m'Hola '\u001b[0m \u001b[0;34m+\u001b[0m \u001b[0mnombre\u001b[0m \u001b[0;34m+\u001b[0m\u001b[0;34m', esta es tu cadena: \"'\u001b[0m \u001b[0;34m+\u001b[0m \u001b[0mcadena\u001b[0m \u001b[0;34m+\u001b[0m \u001b[0;34m'\". '\u001b[0m \u001b[0;34m+\u001b[0m \u001b[0mdespedida\u001b[0m\u001b[0;34m)\u001b[0m\u001b[0;34m\u001b[0m\u001b[0m\n\u001b[1;32m      3\u001b[0m     \u001b[0;32mreturn\u001b[0m\u001b[0;34m\u001b[0m\u001b[0m\n\u001b[0;32m----> 4\u001b[0;31m \u001b[0mimprime\u001b[0m\u001b[0;34m(\u001b[0m\u001b[0;34m)\u001b[0m \u001b[0;31m#Llamamos a la función sin los argumentos \"cadena\", \"nombre\" y \"despedida\"\u001b[0m\u001b[0;34m\u001b[0m\u001b[0m\n\u001b[0m",
      "\u001b[0;31mTypeError\u001b[0m: imprime() missing 3 required positional arguments: 'cadena', 'nombre', and 'despedida'"
     ]
    }
   ],
   "source": [
    "def imprime(cadena, nombre, despedida):\n",
    "    print('Hola ' + nombre +', esta es tu cadena: \"' + cadena + '\". ' + despedida)\n",
    "    return\n",
    "imprime() #Llamamos a la función sin los argumentos \"cadena\", \"nombre\" y \"despedida\"\n"
   ]
  },
  {
   "cell_type": "code",
   "execution_count": 72,
   "metadata": {},
   "outputs": [
    {
     "name": "stdout",
     "output_type": "stream",
     "text": [
      "Hola Alex, esta es tu cadena: \"Quo Vadis?\". Hasta luego!\n"
     ]
    }
   ],
   "source": [
    "#Por el contrario, si uso:\n",
    "imprime(\"Quo Vadis?\",\"Alex\", \"Hasta luego!\")\n",
    "#Ya funciona!"
   ]
  },
  {
   "cell_type": "markdown",
   "metadata": {},
   "source": [
    "Si se quiere evitar el error, es necesario **redefinir** la función para que no emplee tantos parámetros o usar los llamados **parámetros por defecto\"**.\n",
    "Estos parámetros, que se especifican en la definición de la función, asignan valores por defecto a un argumento cuando en la llamada a la función no hayan sido especificados."
   ]
  },
  {
   "cell_type": "code",
   "execution_count": 73,
   "metadata": {},
   "outputs": [
    {
     "name": "stdout",
     "output_type": "stream",
     "text": [
      "Hola Lucía, esta es tu cadena: \"Et tu, Brute?\". Bye bye!\n"
     ]
    }
   ],
   "source": [
    "def imprime(cadena=\"Et tu, Brute?\", nombre=\"Lucía\", despedida=\"Bye bye!\"):\n",
    "    print('Hola ' + nombre +', esta es tu cadena: \"' + cadena + '\". ' + despedida)\n",
    "    return\n",
    "imprime() #Llamamos a la función sin los argumentos \"cadena\", \"nombre\" y \"despedida\", pero ahora funciona! "
   ]
  },
  {
   "cell_type": "markdown",
   "metadata": {},
   "source": [
    "Las claves de argumento se definen en las llamadas a la función. Permiten identificar los argumentos usando no el orden en el que aparecen, sino el nombre del parámetro. \n",
    "Esto permite saltarse argumentos o usarlos sin emplear el orden de definición:"
   ]
  },
  {
   "cell_type": "code",
   "execution_count": 74,
   "metadata": {},
   "outputs": [
    {
     "name": "stdout",
     "output_type": "stream",
     "text": [
      "Hola Juan, esta es tu cadena: \"Tu quoque, Brute, fili mi\". Chao!\n",
      "Hola Chao!, esta es tu cadena: \"Juan\". Tu quoque, Brute, fili mi\n",
      "Hola Lucía, esta es tu cadena: \"Memento Mori\". See you!\n"
     ]
    }
   ],
   "source": [
    "#Aqui puedo variar el orden de llamada especificando el nombre de los argumentos\n",
    "imprime(nombre=\"Juan\", despedida=\"Chao!\", cadena=\"Tu quoque, Brute, fili mi\")\n",
    "\n",
    "#Pero si no uso argumentos clave, el orden es el esperado:\n",
    "imprime(\"Juan\", \"Chao!\", \"Tu quoque, Brute, fili mi\")\n",
    "\n",
    "#Usando claves de parámetro y argumentos por defecto:\n",
    "imprime(\"Memento Mori\", despedida=\"See you!\")\n"
   ]
  },
  {
   "cell_type": "markdown",
   "metadata": {},
   "source": [
    "### 1.5. Funciones anónimas\n",
    "Las funciones anónimas no se declaran usando la palabra reservada **def**. Permiten definir funciones rápidamente en una única linea (inline). Son muy útiles para recorrer y operar con listas, como veremos en los próximos labs.\n",
    "\n",
    "De momento es suficiente con que sepas cómo se definen: "
   ]
  },
  {
   "cell_type": "code",
   "execution_count": 75,
   "metadata": {
    "collapsed": true
   },
   "outputs": [],
   "source": [
    "sum_lambda = lambda num1, num2: num1 + num2\n",
    "#La funcion sum toma dos parámetros (definidos antes de los dos puntos) y devuelve la suma de los dos. \n",
    "#Es equivalente a escribir:\n",
    "def sum(num1, num2):\n",
    "    return num1 + num2\n"
   ]
  },
  {
   "cell_type": "markdown",
   "metadata": {
    "collapsed": true
   },
   "source": [
    "# 2. Módulos\n",
    "De igual manera que las funciones son bloques de código con una función específica, los módulos son conjuntos de funciones y constantes relacionadas temáticamente. En su expresión más básica, son ficheros de código fuente Python que pueden ser cargados al inicializar un programa. Aunque es posible para el usuario definir sus propios módulos, no veremos cómo hacerlo en este curso. Por el contrario nos limitaremos a saber cómo usar los **módulos estándar de Python.**\n",
    "\n",
    "Estos módulos son separados del núcleo del lenguaje por rendimiento pero se incluyen en todas las distribuciones del lenguaje y pueden ser usados desde cualquier intérprete. \n",
    "\n",
    "Puedes encontrar la lista de todos los módulos disponibles en la [siguiente dirección](https://docs.python.org/3/py-modindex.html).\n",
    "\n",
    "Para empezar vamos a ver el módulo [math](https://docs.python.org/3/library/math.html#module-math), que incorpora funciones y constantes matemáticas de uso general:\n"
   ]
  },
  {
   "cell_type": "code",
   "execution_count": 83,
   "metadata": {},
   "outputs": [
    {
     "name": "stdout",
     "output_type": "stream",
     "text": [
      "La constante PI: 3.141592653589793\n",
      "El factorial de 5: 120\n",
      "El máximo común divisor de 14 y 7: 7\n"
     ]
    }
   ],
   "source": [
    "import math\n",
    "#Constante pi\n",
    "print('La constante PI: ' + str(math.pi))\n",
    "print('El factorial de 5: ' + str(math.factorial(5)))\n",
    "print('El máximo común divisor de 14 y 7: ' + str(math.gcd(14, 7)))\n",
    "\n"
   ]
  },
  {
   "cell_type": "markdown",
   "metadata": {},
   "source": [
    "# 3. Entrada y salida de ficheros\n",
    "Al igual que leemos de la entrada estándar usando la función *input* y escribimos en la salida estándar empleando *print*, una tarea muy útil es hacer lo mismo en ficheros que se guardan en el almacenamiento secundario (disco duro). Esto nos va a permitir salvar y recuperar información entre distintas sesiones o ejecuciones de nuestro código y es la forma más simple de **base de datos** (y la única que veremos en este curso).\n",
    "\n",
    "## 3.1 Abrir y cerrar ficheros\n",
    "La manipulación más básica de ficheros de datos incluye la **apertura** y el **cerrado** de los mismos.\n",
    "Antes de leer o escribir en un fichero, es necesario abrirlo. Para ello se emplea la función built-in *open*, que devolverá un **objeto de tipo fichero** que será empleado para llamar a otras funciones asociadas al mismo.\n",
    "Cada fichero contará además con un puntero de fichero, que es una variable asociada al mismo que marca la posición por la que se va leyendo/escribiendo.\n",
    "\n",
    "La signatura de esta función es la siguiente\n",
    "```python\n",
    "fichero = open(nombre_fichero [, modo_de_acceso][, buffering])\n",
    "```\n",
    "1. nombre_fichero: Cadena que contiene el nombre del fichero al que se quiere acceder.\n",
    "2. modo_de_acceso (opcional): Determina el modo en el que se accede al fichero: lectura, escritura, adjuntar...\n",
    "3. buffering (opcional). Activa/desactiva el buffer de lectura/escritura. No lo usaremos.\n",
    "\n",
    "Los modos de acceso que manejaremos son los siguientes:\n",
    "1. r :  El fichero se abre en modo sólo lectura. El puntero de fichero se coloca al inicio.\n",
    "2. r+ : El fichero se abre en modo lectura/escritura. El puntero de fichero se coloca al inicio.\n",
    "3. w :  El fichero se abre en modo sólo escritura. El puntero de fichero se coloca al inicio. Sobreescribe el fichero si este existe.\n",
    "4. w+:  El fichero se abre en modo escritura/lectura. Sobreescribe el fichero si este existe. Si no existe, crea uno nuevo. \n",
    "5. a : El fichero se abre en modo adjuntar. El puntero de fichero se coloca al final si es que éste existe. Si no, crea un nuevo fichero para ser escrito.\n",
    "6. a+: El fichero se abre en modo adjuntar y lectura. El puntero de fichero se coloca al final si es que éste existe, abriéndolo en modo adjuntar. Si no, crea un nuevo fichero en modo lectura/escritura.\n",
    "\n",
    "Una vez abierto el fichero, en cualquier momento puedes ejecutar las siguientes operaciones sobre el objeto fichero:\n",
    "1. fichero.closed: Devuelve *true* si el fichero está cerrado, y falso en caso contrario.\n",
    "2. fichero.mode: Devuelve el modo en el que se abrió el fichero.\n",
    "3. fichero.name: Devuelve el nombre del fichero.\n",
    "\n",
    "Cuando hayas terminado de operar sobre el fichero, recuerda **siempre** llamar a la función built-in *close* para terminar de guardar o leer la información que te encontrases escribiendo/leyendo. Una vez llamada esta función, no podrás seguir escribiendo en el fichero. \n",
    "\n",
    "## 3.2 Escribiendo en los ficheros\n",
    "Contamos con la función built-in *write* para escribir en los ficheros una vez hayan sido abiertos. En esta asignatura nos limitaremos a escribir cadenas, aunque podríamos escribir datos en binario directamente. \n",
    "Ejemplo: "
   ]
  },
  {
   "cell_type": "code",
   "execution_count": 88,
   "metadata": {
    "collapsed": true
   },
   "outputs": [],
   "source": [
    "fo  = open(\"dialogo.txt\", \"w\") # Abro el fichero en modo escritura (no existía)\n",
    "fo.write(\"- Python mola!\\n- Sí, sin duda Programación I es sin duda mi asignatura favorita.\") # Añado dos líneas de un diálogo ficticio.\n",
    "fo.close() # Cierro el fichero"
   ]
  },
  {
   "cell_type": "markdown",
   "metadata": {},
   "source": [
    "## 3.3 Leyendo de los ficheros\n",
    "El método *read* lee una cadena desde un fichero que ha sido abierto. La función *read* admite un único argumento, un número entero que indica el número de bytes que se quieren leer desde el fichero, a partir de la posición en la que se encuentre el puntero de fichero. Una vez leída la información, se avanza el puntero de fichero tantos bytes como se hayan leído. Si no se indica el número de bytes, se lee todo lo que se pueda, hasta encontrar el final de fichero."
   ]
  },
  {
   "cell_type": "code",
   "execution_count": 91,
   "metadata": {},
   "outputs": [
    {
     "name": "stdout",
     "output_type": "stream",
     "text": [
      "He leído el siguiente texto  - Python mola!\n",
      "\n"
     ]
    }
   ],
   "source": [
    "# Abrimos el fichero que guardamos previamente\n",
    "fo = open(\"dialogo.txt\", \"r\")\n",
    "str = fo.read(15) # Leo 10 bytes (en este caso caracteres) y los guardo en la variable str\n",
    "print(\"He leído el siguiente texto \", str) #Imprimo por pantalla lo que haya leído \n",
    "fo.close() #Cierro el fichero"
   ]
  },
  {
   "cell_type": "markdown",
   "metadata": {},
   "source": [
    "## 3.4 tell y seek\n",
    "Finalmente, las funciones *tell* y *seek* complementan la funcionalidad de escritura y lectura de ficheros.\n",
    "1. tell(): informa de la posición actual dentro del puntero de fichero. Dicho de otra manera, nos dice dónde dentro del fichero ocurrirá la próxima lectura o escritura.\n",
    "2. seek(offset[, from]): cambia la posición del puntero de fichero a aquella indicada por los argumentos offset y from. offset indica el número de bytes que se moverá el cursor, mientras que offset tomará tres posibles valores:\n",
    "    0. (0) El principio del fichero es usado como posición de referencia.\n",
    "    1. (1) La posición actual es usada como posición de referencia.\n",
    "    2. (2) El final del fichero es usado como posición de referencia."
   ]
  },
  {
   "cell_type": "code",
   "execution_count": 92,
   "metadata": {},
   "outputs": [
    {
     "name": "stdout",
     "output_type": "stream",
     "text": [
      "He leído el siguiente texto  - Python mola!\n",
      "\n",
      "El puntero está ahora en la posición :  15\n",
      "Again read String is :  - Python mola!\n",
      "\n"
     ]
    }
   ],
   "source": [
    "# Open a file\n",
    "fo = open(\"dialogo.txt\", \"r+\")\n",
    "str = fo.read(15)\n",
    "print(\"He leído el siguiente texto \", str)\n",
    "\n",
    "# Check current position\n",
    "posicion = fo.tell()\n",
    "print (\"El puntero está ahora en la posición : \", posicion)\n",
    "\n",
    "# Reposicionamos el puntero al inicio del fichero de nuevo\n",
    "posicion = fo.seek(0, 0)\n",
    "str = fo.read(15) # Vuelvo a leer y...\n",
    "print (\"Again read String is : \", str) # Otra vez obtengo la misma cadena!\n",
    "\n",
    "# Ya puedo cerrar el fichero\n",
    "fo.close() "
   ]
  },
  {
   "cell_type": "code",
   "execution_count": null,
   "metadata": {
    "collapsed": true
   },
   "outputs": [],
   "source": []
  }
 ],
 "metadata": {
  "kernelspec": {
   "display_name": "Python 3",
   "language": "python",
   "name": "python3"
  },
  "language_info": {
   "codemirror_mode": {
    "name": "ipython",
    "version": 3
   },
   "file_extension": ".py",
   "mimetype": "text/x-python",
   "name": "python",
   "nbconvert_exporter": "python",
   "pygments_lexer": "ipython3",
   "version": "3.6.3"
  }
 },
 "nbformat": 4,
 "nbformat_minor": 2
}
