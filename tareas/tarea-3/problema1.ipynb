{
 "cells": [
  {
   "cell_type": "markdown",
   "metadata": {},
   "source": [
    "Antes de empezar a resolver los problemas de este notebook, asegúrate de que todo funciona como es debido. Primero, **reinicia el kernel** (En el menú superior, selecciona Kernel$\\rightarrow$Restart) y después **ejecuta todas las celdas** (en el menú, selecciona Cell$\\rightarrow$Run All).\n",
    "\n",
    "Asegúrate también de que rellanas todas las partes que pongan `ESCRIBE AQUI TU CODIGO` or \"ESCRIBE AQUI TU RESPUESTA\", así como tu nombre y el de tu pareja EN NAME_1 y COLLABORATORS respectivamente (entre las comillas)."
   ]
  },
  {
   "cell_type": "code",
   "execution_count": null,
   "metadata": {},
   "outputs": [],
   "source": [
    "NAME_1 = \"\"\n",
    "COLLABORATORS = \"\""
   ]
  },
  {
   "cell_type": "markdown",
   "metadata": {},
   "source": [
    "---"
   ]
  },
  {
   "cell_type": "markdown",
   "metadata": {
    "deletable": false,
    "editable": false,
    "nbgrader": {
     "checksum": "f96673bc7e81490827d37ccb58c9d6c9",
     "grade": false,
     "grade_id": "cell-695f2338711fc7c8",
     "locked": true,
     "schema_version": 1,
     "solution": false
    }
   },
   "source": [
    "## Ejercicio 1: Codificando el Lorem Ipsum\n",
    "En este ejercicio vamos a comprobar cómo podemos hacer un programa un poco más  grande de lo habitual de manera modular empleando funciones. El objetivo de esta práctica es leer un fichero de texto y guardar una copia modificada del mismo. La modificación a efectuar es la siguiente:\n",
    "1. Para cada caracter que se encuentre, se convertirá a entero.\n",
    "2. Una vez convertido, se reemplazará el caracter original por la cadena con el número entero resultante de la conversión. (Ver código abajo para comprobar cómo tiene que quedar).\n",
    "\n",
    "Para ello crearás una función principal llamada \"cambia\" que ejecutará las siguientes subacciones, cada una codificada en una función diferente:\n",
    "\n",
    "1. Abrir un fichero de texto en modo lectura emplazado en este mismo directorio llamado *lorem_ipsum.txt*. Función abrir_fichero_lectura\n",
    "2. Abrir otro fichero de texto en modo escritura llamado *lorem_ipsum_modificado.txt*. Función abrir_fichero_escritura.\n",
    "3. Al iterar por los caracteres del primer fichero, llamará a una función llamada \"codificar\" que devolverá el valor entero de un número.\n",
    "4. Cerrar los ficheros de texto\n",
    "\n",
    "*Nota: En el ejemplo de código de abajo yo empleo una lista (array) como ejemplo. La resolución de esta práctica no requiere emplear un array/buffer intermedio (se puede ir escribiendo en un fichero a la vez que se lee del otro). Esto es lo correcto y no el usar un buffer.*"
   ]
  },
  {
   "cell_type": "code",
   "execution_count": null,
   "metadata": {
    "deletable": false,
    "editable": false,
    "nbgrader": {
     "checksum": "f9a185b8d1ead3b5231008d10c9bb6b6",
     "grade": false,
     "grade_id": "cell-a74cf95ed7bda9c1",
     "locked": true,
     "schema_version": 1,
     "solution": false
    }
   },
   "outputs": [],
   "source": [
    "cadena = \"Convierte esto\"\n",
    "array = []\n",
    "for char in cadena:\n",
    "    char_codificado = str(ord(char))\n",
    "    array.append(char_codificado)\n",
    "    print(char + ' -> ' + char_codificado)\n",
    "print(cadena)\n",
    "print('pasa a ser:')\n",
    "print(''.join(array))"
   ]
  },
  {
   "cell_type": "code",
   "execution_count": 4,
   "metadata": {
    "deletable": false,
    "nbgrader": {
     "checksum": "1cc6fa1b9b5a95f04e0404f01266c729",
     "grade": true,
     "grade_id": "cell-356fd0b17d53e162",
     "locked": false,
     "points": 10,
     "schema_version": 1,
     "solution": true
    }
   },
   "outputs": [],
   "source": [
    "def principal():\n",
    "    objeto_origen = abrir_fichero('lorem_ipsum.txt', 'lectura')\n",
    "    objeto_destino = abrir_fichero('lorem_ipsum_codificado.txt', 'escritura')\n",
    "    \n",
    "    #Bucle que llama repetidamente a codifica_caracter\n",
    "    #cadena = objeto_origen.read()\n",
    "    #cadena_res = ''\n",
    "    #for c in cadena:\n",
    "    #    cadena_res+=str(codifica_caracter(c))\n",
    "    #print(cadena_res)\n",
    "    \n",
    "    #objeto_destino.write(cadena_res)\n",
    "    \n",
    "    c = objeto_origen.read(1)\n",
    "    while(c):\n",
    "        objeto_destino.write(str(codifica_caracter(c)))\n",
    "        c = objeto_origen.read(1)\n",
    "        \n",
    "    \n",
    "    objeto_origen.close()\n",
    "    objeto_destino.close()\n",
    "    \n",
    "    return\n",
    "\n",
    "def abrir_fichero(nombre, modo):\n",
    "    mode = ''\n",
    "    if (modo == 'lectura'): mode = 'r+'\n",
    "    if (modo == 'escritura'): mode = 'w'\n",
    "    return open(nombre, mode)\n",
    "\n",
    "def codifica_caracter(caracter):\n",
    "    return ord(caracter)\n",
    "\n",
    "def cerrar_fichero(descriptor):\n",
    "\n",
    "    return\n",
    "\n",
    "#Aqui se inicia el programa\n",
    "principal()\n",
    "\n"
   ]
  },
  {
   "cell_type": "code",
   "execution_count": null,
   "metadata": {},
   "outputs": [],
   "source": []
  }
 ],
 "metadata": {
  "kernelspec": {
   "display_name": "Python 3",
   "language": "python",
   "name": "python3"
  },
  "language_info": {
   "codemirror_mode": {
    "name": "ipython",
    "version": 3
   },
   "file_extension": ".py",
   "mimetype": "text/x-python",
   "name": "python",
   "nbconvert_exporter": "python",
   "pygments_lexer": "ipython3",
   "version": "3.5.3"
  }
 },
 "nbformat": 4,
 "nbformat_minor": 1
}
