{
 "cells": [
  {
   "cell_type": "markdown",
   "metadata": {},
   "source": [
    "Antes de empezar a resolver los problemas de este notebook, asegúrate de que todo funciona como es debido. Primero, **reinicia el kernel** (En el menú superior, selecciona Kernel$\\rightarrow$Restart) y después **ejecuta todas las celdas** (en el menú, selecciona Cell$\\rightarrow$Run All).\n",
    "\n",
    "Asegúrate también de que rellanas todas las partes que pongan `ESCRIBE AQUI TU CODIGO` or \"ESCRIBE AQUI TU RESPUESTA\", así como tu nombre y el de tu pareja EN NAME_1 y COLLABORATORS respectivamente (entre las comillas)."
   ]
  },
  {
   "cell_type": "code",
   "execution_count": null,
   "metadata": {},
   "outputs": [],
   "source": [
    "NAME_1 = \"\"\n",
    "COLLABORATORS = \"\""
   ]
  },
  {
   "cell_type": "markdown",
   "metadata": {},
   "source": [
    "---"
   ]
  },
  {
   "cell_type": "markdown",
   "metadata": {
    "deletable": false,
    "editable": false,
    "nbgrader": {
     "checksum": "038753691c44b2eeb34aff4b97e5aac6",
     "grade": false,
     "grade_id": "cell-d13cbeb4f498e98e",
     "locked": true,
     "schema_version": 1,
     "solution": false
    }
   },
   "source": [
    "# Ejercicio 1:\n",
    "Escribe una función que devuelva la suma de todos los elementos de una lista."
   ]
  },
  {
   "cell_type": "code",
   "execution_count": null,
   "metadata": {
    "deletable": false,
    "nbgrader": {
     "checksum": "0683ba8e3802ff478eacc01973c8c51d",
     "grade": false,
     "grade_id": "cell-d02b0c4baeb11dae",
     "locked": false,
     "schema_version": 1,
     "solution": true
    }
   },
   "outputs": [],
   "source": [
    "def suma(lista):\n",
    "    acc = 0\n",
    "    for e in lista:\n",
    "        acc += e\n",
    "    return acc"
   ]
  },
  {
   "cell_type": "code",
   "execution_count": null,
   "metadata": {
    "deletable": false,
    "editable": false,
    "nbgrader": {
     "checksum": "7af1a54f0844178a171e99eb13aa938f",
     "grade": true,
     "grade_id": "cell-5272a50bddf5bfbf",
     "locked": true,
     "points": 5,
     "schema_version": 1,
     "solution": false
    }
   },
   "outputs": [],
   "source": [
    "assert(suma([1,2,3,4,5]) == 15)\n",
    "assert(suma([1,2,3,4,5,6,7]) == 28)\n"
   ]
  },
  {
   "cell_type": "markdown",
   "metadata": {
    "deletable": false,
    "editable": false,
    "nbgrader": {
     "checksum": "deab9ec2377b50a83e83f37443f5b4c9",
     "grade": false,
     "grade_id": "cell-988a3abfb27b0ba5",
     "locked": true,
     "schema_version": 1,
     "solution": false
    }
   },
   "source": [
    "# Ejercicio 2:\n",
    "Escribe la función en python que recibe una tupla de elementos y devuelve otra tupla que contiene los mismos elementos en grupos del número que se proporciona por parámetros"
   ]
  },
  {
   "cell_type": "code",
   "execution_count": 3,
   "metadata": {
    "deletable": false,
    "nbgrader": {
     "checksum": "5e45bdcfb0a86eb3f32e4d25966cc8ac",
     "grade": false,
     "grade_id": "cell-05e1ea1ae39328a9",
     "locked": false,
     "schema_version": 1,
     "solution": true
    }
   },
   "outputs": [],
   "source": [
    "def agrupa(tupla, numero):\n",
    "    res = [] \n",
    "    for i in range(0, len(tupla), numero):\n",
    "        interm = []\n",
    "        for j in range(numero):\n",
    "            if i+j < len(tupla):\n",
    "                interm.append(tupla[i+j])\n",
    "        res.append(tuple(interm))\n",
    "    print(tuple(res))\n",
    "    return tuple(res)"
   ]
  },
  {
   "cell_type": "code",
   "execution_count": 8,
   "metadata": {},
   "outputs": [],
   "source": [
    "def agrupa(tupla, numero):\n",
    "    nueva_lista = tuple()\n",
    "    temp = tuple()\n",
    "    \n",
    "    #Recorremos los números de la lista\n",
    "    for i in range(0, len( tupla)):\n",
    "        #los añadimos a una lista mas pequeña\n",
    "        temp = temp + (tupla[i],)\n",
    "        \n",
    "        #cuando hay \"número\"(el número por el que esté formado cada pequeña lista), añadimos la lista menor a una lista de listas(la lista mayor)\n",
    "        if((i+1)%numero == 0):\n",
    "            nueva_lista += ((temp),)\n",
    "            #a continuación vaciamos la lista pequeña\n",
    "            temp = tuple()\n",
    "    #los numeros sueltos que queden pq no llegan a llenar un conjunto entero, los añadiremos tal cual (el 10 al hacer grupos de 3)        \n",
    "    if len(tupla)%numero != 0:\n",
    "        nueva_lista = nueva_lista + tuple(temp)\n",
    "    #print no es necesario al igual que en el caso anterior\n",
    "    print(nueva_lista)\n",
    "    return(nueva_lista)"
   ]
  },
  {
   "cell_type": "code",
   "execution_count": 9,
   "metadata": {
    "deletable": false,
    "editable": false,
    "nbgrader": {
     "checksum": "7d474a632f2bdbbe4c79c99bab82ff6d",
     "grade": true,
     "grade_id": "cell-929ffaa649a30419",
     "locked": true,
     "points": 5,
     "schema_version": 1,
     "solution": false
    }
   },
   "outputs": [
    {
     "name": "stdout",
     "output_type": "stream",
     "text": [
      "((1, 2), (3, 4), (5, 6), (7, 8), (9, 10))\n",
      "((1, 2, 3), (4, 5, 6), (7, 8, 9), 10)\n"
     ]
    }
   ],
   "source": [
    "assert(agrupa((1,2,3,4,5,6,7,8,9,10), 2) == ((1,2),(3,4),(5,6),(7,8),(9,10)))\n",
    "assert(agrupa((1,2,3,4,5,6,7,8,9,10), 3) == ((1,2,3),(4,5,6),(7,8,9),(10)))"
   ]
  },
  {
   "cell_type": "code",
   "execution_count": 7,
   "metadata": {},
   "outputs": [
    {
     "ename": "AssertionError",
     "evalue": "",
     "output_type": "error",
     "traceback": [
      "\u001b[0;31m---------------------------------------------------------------------------\u001b[0m",
      "\u001b[0;31mAssertionError\u001b[0m                            Traceback (most recent call last)",
      "\u001b[0;32m<ipython-input-7-7ed071fa50ae>\u001b[0m in \u001b[0;36m<module>\u001b[0;34m()\u001b[0m\n\u001b[0;32m----> 1\u001b[0;31m \u001b[0;32massert\u001b[0m\u001b[0;34m(\u001b[0m\u001b[0magrupa\u001b[0m\u001b[0;34m(\u001b[0m\u001b[0;34m(\u001b[0m\u001b[0;36m1\u001b[0m\u001b[0;34m,\u001b[0m\u001b[0;36m2\u001b[0m\u001b[0;34m,\u001b[0m\u001b[0;36m3\u001b[0m\u001b[0;34m,\u001b[0m\u001b[0;36m4\u001b[0m\u001b[0;34m,\u001b[0m\u001b[0;36m5\u001b[0m\u001b[0;34m,\u001b[0m\u001b[0;36m6\u001b[0m\u001b[0;34m,\u001b[0m\u001b[0;36m7\u001b[0m\u001b[0;34m,\u001b[0m\u001b[0;36m8\u001b[0m\u001b[0;34m,\u001b[0m\u001b[0;36m9\u001b[0m\u001b[0;34m,\u001b[0m\u001b[0;36m10\u001b[0m\u001b[0;34m)\u001b[0m\u001b[0;34m,\u001b[0m \u001b[0;36m3\u001b[0m\u001b[0;34m)\u001b[0m \u001b[0;34m==\u001b[0m \u001b[0;34m(\u001b[0m\u001b[0;34m(\u001b[0m\u001b[0;36m1\u001b[0m\u001b[0;34m,\u001b[0m\u001b[0;36m2\u001b[0m\u001b[0;34m,\u001b[0m\u001b[0;36m3\u001b[0m\u001b[0;34m)\u001b[0m\u001b[0;34m,\u001b[0m\u001b[0;34m(\u001b[0m\u001b[0;36m4\u001b[0m\u001b[0;34m,\u001b[0m\u001b[0;36m5\u001b[0m\u001b[0;34m,\u001b[0m\u001b[0;36m6\u001b[0m\u001b[0;34m)\u001b[0m\u001b[0;34m,\u001b[0m\u001b[0;34m(\u001b[0m\u001b[0;36m7\u001b[0m\u001b[0;34m,\u001b[0m\u001b[0;36m8\u001b[0m\u001b[0;34m,\u001b[0m\u001b[0;36m9\u001b[0m\u001b[0;34m)\u001b[0m\u001b[0;34m,\u001b[0m\u001b[0;34m(\u001b[0m\u001b[0;36m10\u001b[0m\u001b[0;34m,\u001b[0m\u001b[0;34m)\u001b[0m\u001b[0;34m)\u001b[0m\u001b[0;34m)\u001b[0m\u001b[0;34m\u001b[0m\u001b[0m\n\u001b[0m",
      "\u001b[0;31mAssertionError\u001b[0m: "
     ]
    }
   ],
   "source": [
    "assert(agrupa((1,2,3,4,5,6,7,8,9,10), 3) == ((1,2,3),(4,5,6),(7,8,9),(10,)))"
   ]
  },
  {
   "cell_type": "code",
   "execution_count": null,
   "metadata": {},
   "outputs": [],
   "source": []
  }
 ],
 "metadata": {
  "kernelspec": {
   "display_name": "Python 3",
   "language": "python",
   "name": "python3"
  },
  "language_info": {
   "codemirror_mode": {
    "name": "ipython",
    "version": 3
   },
   "file_extension": ".py",
   "mimetype": "text/x-python",
   "name": "python",
   "nbconvert_exporter": "python",
   "pygments_lexer": "ipython3",
   "version": "3.5.3"
  }
 },
 "nbformat": 4,
 "nbformat_minor": 1
}
